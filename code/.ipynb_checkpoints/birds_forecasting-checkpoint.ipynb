{
 "cells": [
  {
   "cell_type": "code",
   "execution_count": 3,
   "id": "774fc968",
   "metadata": {},
   "outputs": [],
   "source": [
    "import pandas as pd\n",
    "import numpy as np\n",
    "from tqdm import tqdm\n",
    "#from pre_processing import \n",
    "import matplotlib.pyplot as plt\n",
    "from mpl_toolkits.basemap import Basemap"
   ]
  },
  {
   "cell_type": "code",
   "execution_count": null,
   "id": "c6692943",
   "metadata": {},
   "outputs": [],
   "source": [
    "np.set_printoptions(formatter={'float': lambda x: \"{0:0.3f}\".format(x)})\n",
    "plt.rcParams[\"font.family\"] = \"Times New Roman\"\n",
    "plt.style.use('seaborn-whitegrid')\n",
    "plt.style.use('seaborn-poster')\n",
    "plt.style.use('seaborn-dark-palette')\n",
    "plt.rcParams[\"mathtext.fontset\"] = \"cm\""
   ]
  },
  {
   "cell_type": "code",
   "execution_count": 4,
   "id": "ce34510c",
   "metadata": {},
   "outputs": [],
   "source": [
    "data = pd.read_csv('../dataset/bird/Shamoun-Baranes(2016).csv')"
   ]
  },
  {
   "cell_type": "code",
   "execution_count": null,
   "id": "2601aed6",
   "metadata": {},
   "outputs": [
    {
     "name": "stderr",
     "output_type": "stream",
     "text": [
      "  3%|▎         | 25773/825399 [15:08<6:51:39, 32.37it/s] "
     ]
    }
   ],
   "source": [
    "data = data[['BirdID', 'DateTime', 'Longitude', 'Latitude']]\n",
    "for i in tqdm(range(len(data))):\n",
    "    data.iloc[i, 1] = data.iloc[i, 1][0:10]"
   ]
  },
  {
   "cell_type": "code",
   "execution_count": null,
   "id": "c473e18e",
   "metadata": {},
   "outputs": [],
   "source": [
    "data = data.drop_duplicates(['DateTime', 'BirdID'], 'first')\n",
    "print(data)"
   ]
  },
  {
   "cell_type": "code",
   "execution_count": null,
   "id": "01db4779",
   "metadata": {},
   "outputs": [],
   "source": [
    "data.to_csv('../dataset/bird/Shamoun_Baranes_after_processing.csv', index = False)"
   ]
  },
  {
   "cell_type": "code",
   "execution_count": null,
   "id": "5c3e7a3e",
   "metadata": {},
   "outputs": [],
   "source": [
    "lat_min = min(data['Latitude'])\n",
    "lat_max = max(data['Latitude'])\n",
    "long_min = min(data['Longitude'])\n",
    "long_max = max(data['Longitude'])"
   ]
  },
  {
   "cell_type": "code",
   "execution_count": null,
   "id": "eedbe208",
   "metadata": {},
   "outputs": [],
   "source": [
    "plt.figure(figsize=(16,8))   \n",
    "map = Basemap(llcrnrlon = lat_min-1, llcrnrlat = long_min-1, urcrnrlon = lat_max+1, urcrnrlat = long_max+1, resolution = 'h', epsg = 3415)\n",
    "map.drawmapboundary(fill_color = 'aqua')\n",
    "map.fillcontinents(color = 'coral', lake_color = 'aqua')\n",
    "map.drawcoastlines()\n",
    "plt.show()\n"
   ]
  }
 ],
 "metadata": {
  "kernelspec": {
   "display_name": "Python 3",
   "language": "python",
   "name": "python3"
  }
 },
 "nbformat": 4,
 "nbformat_minor": 5
}
