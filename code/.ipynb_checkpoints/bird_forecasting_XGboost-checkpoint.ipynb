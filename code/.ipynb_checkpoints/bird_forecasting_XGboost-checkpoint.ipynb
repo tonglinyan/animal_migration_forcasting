{
 "cells": [
  {
   "cell_type": "code",
   "execution_count": 51,
   "id": "ed2610c1",
   "metadata": {},
   "outputs": [],
   "source": [
    "import pandas as pd\n",
    "from pandas import DataFrame\n",
    "import numpy as np\n",
    "import math\n",
    "from random import random\n",
    "import matplotlib.pyplot as plt\n",
    "import seaborn as sns\n",
    "import operator\n",
    "from functools import reduce\n",
    "from tqdm import tqdm\n",
    "import matplotlib.animation as ani\n",
    "import plotly.graph_objects as go\n",
    "from sklearn.metrics import mean_absolute_error\n",
    "import xgboost as xgb\n",
    "from sklearn import metrics"
   ]
  },
  {
   "cell_type": "code",
   "execution_count": 52,
   "id": "6a729283",
   "metadata": {},
   "outputs": [],
   "source": [
    "np.set_printoptions(formatter={'float': lambda x: \"{0:0.3f}\".format(x)})\n",
    "plt.rcParams[\"font.family\"] = \"Times New Roman\"\n",
    "plt.style.use('seaborn-whitegrid')\n",
    "plt.style.use('seaborn-poster')\n",
    "plt.style.use('seaborn-dark-palette')\n",
    "plt.rcParams[\"mathtext.fontset\"] = \"cm\""
   ]
  },
  {
   "cell_type": "code",
   "execution_count": null,
   "id": "067183dc",
   "metadata": {},
   "outputs": [],
   "source": []
  },
  {
   "cell_type": "code",
   "execution_count": 55,
   "id": "aab619c6",
   "metadata": {},
   "outputs": [],
   "source": [
    "def xgboost_one_step(data, coef, radar):\n",
    "    predictions = []\n",
    "    t_i = int(coef * len(data))\n",
    "    # step over each time-step in the test set\n",
    "    X = data.iloc[:,1:]\n",
    "    y = data.iloc[:,0] \n",
    "    \n",
    "    for i in tqdm(range(int((1-coef) * len(data)))):\n",
    "        current_t = t_i + i\n",
    "        # split test row into input and output columns\n",
    "        \n",
    "        testX = X.iloc[current_t, :]\n",
    "        trainX, trainY = X[:current_t], y[:current_t]\n",
    "        # fit model on history and make a prediction\n",
    "        yhat = xgboost_forecast(trainX.values, trainY.values, testX.values.reshape(1,-1))\n",
    "        # store forecast in list of predictions\n",
    "        predictions.append(yhat)\n",
    "    # estimate prediction error\n",
    "    predictions = pd.DataFrame(predictions, columns = [radar])\n",
    "    trainY = y[(len(y) - int(coef * len(data))):]\n",
    "    error = mean_absolute_error(trainY, predictions)\n",
    "    r2 = metrics.r2_score(trainY, predictions)\n",
    "    return error, predictions, r2\n",
    "\n",
    "# fit an xgboost model and make a one step prediction\n",
    "def xgboost_forecast(trainX, trainY, testX):\n",
    "    # fit model\n",
    "    model = xgb.XGBRegressor(objective='reg:squarederror', n_estimators=1000, seed = 1850)\n",
    "    model.fit(trainX, trainY)\n",
    "    # make a one-step prediction\n",
    "    yhat = model.predict(testX)\n",
    "    return yhat\n",
    "\n",
    "def xgboost_multistep(data, coef, radar):\n",
    "    X = data.iloc[:,1:]\n",
    "    y = data.iloc[:,0]\n",
    "    trainX, testX = X[:int(coef * len(X))], X[int(coef * len(X)):]\n",
    "    trainY, testY = y[:int(coef * len(y))], y[int(coef * len(y)):]\n",
    "    #print(testX.values)\n",
    "    predictions = xgboost_forecast(trainX.values, trainY.values, testX.values)\n",
    "    predictions = pd.DataFrame(predictions, columns = [radar])\n",
    "    trainY = y[(len(y) - int(coef * len(data))):]\n",
    "    error = mean_absolute_error(testY, predictions)\n",
    "    r2 = metrics.r2_score(testY, predictions)\n",
    "    return error, predictions, r2"
   ]
  },
  {
   "cell_type": "markdown",
   "id": "854d8cb6",
   "metadata": {},
   "source": [
    "### intensity lags"
   ]
  },
  {
   "cell_type": "code",
   "execution_count": 56,
   "id": "818fedf8",
   "metadata": {
    "scrolled": false
   },
   "outputs": [
    {
     "name": "stderr",
     "output_type": "stream",
     "text": [
      "100%|██████████| 453/453 [16:02<00:00,  2.12s/it]\n"
     ]
    },
    {
     "name": "stdout",
     "output_type": "stream",
     "text": [
      "(1311.4090106982587,             KABR\n",
      "0     631.985962\n",
      "1     176.050400\n",
      "2      50.815929\n",
      "3    3910.911865\n",
      "4      96.018303\n",
      "..           ...\n",
      "448    74.550598\n",
      "449  -485.779053\n",
      "450  2538.199707\n",
      "451   561.585144\n",
      "452  -305.522736\n",
      "\n",
      "[453 rows x 1 columns])\n",
      "(1253.096546795863,             KABR\n",
      "0     631.985962\n",
      "1     135.722412\n",
      "2     135.344498\n",
      "3    1620.561157\n",
      "4     140.604431\n",
      "..           ...\n",
      "449  -121.376106\n",
      "450  2150.363037\n",
      "451  1938.116943\n",
      "452   123.362717\n",
      "453  1777.856445\n",
      "\n",
      "[454 rows x 1 columns], -0.24875734239346703)\n"
     ]
    }
   ],
   "source": [
    "coef = 0.5\n",
    "radar = 'KABR'\n",
    "df_forecasting = pd.read_csv('../dataset/radar/features/intensity_lags.csv')\n",
    "mae_step1, pred_step1, r2_step1 = xgboost_one_step(df_forecasting, coef, radar)\n",
    "mae_multi, pred_multi, r2_multi = xgboost_multistep(df_forecasting, coef, radar)"
   ]
  },
  {
   "cell_type": "code",
   "execution_count": null,
   "id": "23980a8e",
   "metadata": {},
   "outputs": [],
   "source": []
  },
  {
   "cell_type": "code",
   "execution_count": null,
   "id": "7d214502",
   "metadata": {},
   "outputs": [],
   "source": []
  }
 ],
 "metadata": {
  "kernelspec": {
   "display_name": "Python 3",
   "language": "python",
   "name": "python3"
  },
  "language_info": {
   "codemirror_mode": {
    "name": "ipython",
    "version": 3
   },
   "file_extension": ".py",
   "mimetype": "text/x-python",
   "name": "python",
   "nbconvert_exporter": "python",
   "pygments_lexer": "ipython3",
   "version": "3.8.8"
  }
 },
 "nbformat": 4,
 "nbformat_minor": 5
}
