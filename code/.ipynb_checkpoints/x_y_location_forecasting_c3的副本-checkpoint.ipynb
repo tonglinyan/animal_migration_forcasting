{
 "cells": [
  {
   "cell_type": "code",
   "execution_count": 1,
   "id": "a53b41f9",
   "metadata": {},
   "outputs": [],
   "source": [
    "import matplotlib.pyplot as plt\n",
    "import numpy as np\n",
    "import pandas as pd\n",
    "from tqdm import tqdm\n",
    "from statsmodels.tsa.statespace.varmax import VARMAX"
   ]
  },
  {
   "cell_type": "code",
   "execution_count": 2,
   "id": "d6c77089",
   "metadata": {},
   "outputs": [],
   "source": [
    "np.set_printoptions(formatter={'float': lambda x: \"{0:0.3f}\".format(x)})\n",
    "plt.rcParams[\"font.family\"] = \"Times New Roman\"\n",
    "plt.style.use('seaborn-whitegrid')\n",
    "plt.style.use('seaborn-poster')\n",
    "plt.style.use('seaborn-dark-palette')\n",
    "plt.rcParams[\"mathtext.fontset\"] = \"cm\""
   ]
  },
  {
   "cell_type": "code",
   "execution_count": 3,
   "id": "4a7c52a8",
   "metadata": {},
   "outputs": [],
   "source": [
    "def num_chamber(list_x, list_y):\n",
    "    list_c = list()\n",
    "    for i in range(len(list_x)):\n",
    "        x = int(list_x[i])\n",
    "        y = int(list_y[i])\n",
    "        if (y > 178):\n",
    "            list_c.append(5)\n",
    "        else:\n",
    "            if ((y <= 0)&(x <= 0)):\n",
    "                list_c.append(5)\n",
    "            else:\n",
    "                if (y <= 46):\n",
    "                    list_c.append(1)\n",
    "                else:\n",
    "                    if (y <= 92):\n",
    "                        list_c.append(2)\n",
    "                    else:\n",
    "                        if (y <= 138):\n",
    "                            list_c.append(3)\n",
    "                        else:\n",
    "                            list_c.append(4)\n",
    "    return list_c  "
   ]
  },
  {
   "cell_type": "code",
   "execution_count": 4,
   "id": "53aaab24",
   "metadata": {},
   "outputs": [],
   "source": [
    "def plot_time_series(ts_1, ts_label_1, ts_2, ts_label_2, title, path):\n",
    "    assert len(ts_1) == len(ts_2)\n",
    "    xs = list(range(0, len(ts_1)))\n",
    "\n",
    "    plt.plot(xs, ts_1, c='green', label=ts_label_1)\n",
    "    plt.plot(xs, ts_2, c='red', label=ts_label_2)\n",
    "\n",
    "    plt.title(title)\n",
    "    plt.legend(loc='upper left')\n",
    "    plt.savefig(path)\n",
    "    plt.show()"
   ]
  },
  {
   "cell_type": "code",
   "execution_count": null,
   "id": "41db585b",
   "metadata": {},
   "outputs": [
    {
     "name": "stderr",
     "output_type": "stream",
     "text": [
      "  0%|          | 0/5 [00:00<?, ?it/s]\n",
      "  0%|          | 0/5 [00:00<?, ?it/s]\u001b[A"
     ]
    },
    {
     "name": "stdout",
     "output_type": "stream",
     "text": [
      "224\n"
     ]
    },
    {
     "name": "stderr",
     "output_type": "stream",
     "text": [
      "\n",
      " 40%|████      | 2/5 [00:01<00:02,  1.21it/s]\u001b[A/Users/isabelle/opt/anaconda3/lib/python3.8/site-packages/statsmodels/base/model.py:566: ConvergenceWarning: Maximum Likelihood optimization failed to converge. Check mle_retvals\n",
      "  warnings.warn(\"Maximum Likelihood optimization failed to \"\n",
      "\n",
      " 60%|██████    | 3/5 [00:04<00:03,  1.64s/it]\u001b[A/Users/isabelle/opt/anaconda3/lib/python3.8/site-packages/statsmodels/base/model.py:566: ConvergenceWarning: Maximum Likelihood optimization failed to converge. Check mle_retvals\n",
      "  warnings.warn(\"Maximum Likelihood optimization failed to \"\n",
      "\n",
      " 80%|████████  | 4/5 [00:08<00:02,  2.57s/it]\u001b[A"
     ]
    }
   ],
   "source": [
    "# Step 1: Data Loading\n",
    "data_df = pd.read_csv('../dataset/insect/ant/location_in_mm.csv')\n",
    "colony_id = 1\n",
    "#for ant_id in range(32, 40):\n",
    "    \n",
    "ant_id = 70\n",
    "#colony = 154\n",
    "colony = 1\n",
    "data = data_df[(data_df['colony_id'] == colony_id) & (data_df['ant_id'] == ant_id)]\n",
    "\n",
    "num_ant = colony + ant_id\n",
    "data.reset_index(inplace = True)\n",
    "data = data[['location_x', 'location_y']]\n",
    "print(num_ant)\n",
    "\n",
    "# Step 2: Data Preparation\n",
    "#creating the train and validation set\n",
    "train = data[:int(0.5*(len(data)))]\n",
    "valid = data[int(0.5*(len(data))):]\n",
    "\n",
    "try:\n",
    "    tmp = []\n",
    "    for p in tqdm(range(5)):\n",
    "        for q in tqdm(range(5)):\n",
    "            try:\n",
    "                tmp.append([VARMAX(train, order = (p,q)).fit().bic, p, q])\n",
    "            except:\n",
    "                tmp.append([None, p, q])\n",
    "    tmp = pd.DataFrame(tmp,columns = ['bic', 'p', 'q'])\n",
    "    print(tmp)\n",
    "    order = tmp[tmp['bic'] == tmp['bic'].min()]\n",
    "    print(order)\n",
    "\n",
    "    prediction_x = list()\n",
    "    prediction_y = list()\n",
    "\n",
    "    for i in range(len(train)):\n",
    "        prediction_x.append(train.iloc[i, 0])\n",
    "        prediction_y.append(train.iloc[i, 1])\n",
    "\n",
    "    start_t = len(train)\n",
    "    for t_i in tqdm(range(len(valid))):\n",
    "        current_t = t_i + start_t\n",
    "        model = VARMAX(data[t_i:current_t], order = (order['p'], order['q']))\n",
    "        fitted_model = model.fit()\n",
    "        prediction = fitted_model.forecast().reset_index(drop=True) \n",
    "        prediction_x.append(prediction['location_x']) \n",
    "        prediction_y.append(prediction['location_y']) \n",
    "\n",
    "    #plot_time_series(ts_1 = prediction_chamber, ts_label_1 = 'VARMA Model', ts_2 = valid['chamber'], ts_label_2 = 'Close', title = 'VARMA predictions vs. ground truth')\n",
    "    plot_time_series(ts_1 = prediction_x, ts_label_1 = 'VARMA Model', ts_2 = data['location_x'], ts_label_2 = 'Close', title = 'VARMA predictions vs. ground truth of location x', path = '../figures/insect/%i/x.png'%num_ant)\n",
    "    plot_time_series(ts_1 = prediction_y, ts_label_1 = 'VARMA Model', ts_2 = data['location_y'], ts_label_2 = 'Close', title = 'VARMA predictions vs. ground truth of location y', path = '../figures/insect/%i/y.png'%num_ant)\n",
    "\n",
    "    prediction_c = num_chamber(prediction_x, prediction_y)\n",
    "    prediction_c = pd.DataFrame(prediction_c, columns = ['%i'%num_ant])\n",
    "    prediction_c.to_csv('../dataset/insect/ant/prediction/prediction_%i.csv'%num_ant, index = False)\n",
    "except Exception as reason:\n",
    "    print('%i'%num_ant, reason)"
   ]
  },
  {
   "cell_type": "code",
   "execution_count": null,
   "id": "5cf85866",
   "metadata": {},
   "outputs": [],
   "source": []
  },
  {
   "cell_type": "code",
   "execution_count": null,
   "id": "f1bd46d8",
   "metadata": {},
   "outputs": [],
   "source": []
  }
 ],
 "metadata": {
  "kernelspec": {
   "display_name": "Python 3",
   "language": "python",
   "name": "python3"
  },
  "language_info": {
   "codemirror_mode": {
    "name": "ipython",
    "version": 3
   },
   "file_extension": ".py",
   "mimetype": "text/x-python",
   "name": "python",
   "nbconvert_exporter": "python",
   "pygments_lexer": "ipython3",
   "version": "3.8.8"
  }
 },
 "nbformat": 4,
 "nbformat_minor": 5
}
