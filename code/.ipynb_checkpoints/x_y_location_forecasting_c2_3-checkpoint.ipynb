{
 "cells": [
  {
   "cell_type": "code",
   "execution_count": 49,
   "id": "a53b41f9",
   "metadata": {},
   "outputs": [],
   "source": [
    "from utils.viz import plot_time_series, plot_balance, plot_balance_vs_price\n",
    "import matplotlib.pyplot as plt\n",
    "import numpy as np"
   ]
  },
  {
   "cell_type": "code",
   "execution_count": 50,
   "id": "d6c77089",
   "metadata": {},
   "outputs": [],
   "source": [
    "np.set_printoptions(formatter={'float': lambda x: \"{0:0.3f}\".format(x)})\n",
    "plt.rcParams[\"font.family\"] = \"Times New Roman\"\n",
    "plt.style.use('seaborn-whitegrid')\n",
    "plt.style.use('seaborn-poster')\n",
    "plt.style.use('seaborn-dark-palette')\n",
    "plt.rcParams[\"mathtext.fontset\"] = \"cm\""
   ]
  },
  {
   "cell_type": "code",
   "execution_count": 51,
   "id": "f788ce14",
   "metadata": {},
   "outputs": [],
   "source": [
    "import pandas as pd\n",
    "from tqdm import tqdm\n",
    "from statsmodels.tsa.statespace.varmax import VARMAX"
   ]
  },
  {
   "cell_type": "code",
   "execution_count": 52,
   "id": "41db585b",
   "metadata": {},
   "outputs": [
    {
     "name": "stdout",
     "output_type": "stream",
     "text": [
      "76\n"
     ]
    }
   ],
   "source": [
    "# Step 1: Data Loading\n",
    "data_df = pd.read_csv('../dataset/insect/ant/location_in_mm.csv')\n",
    "colony_id = 2\n",
    "ant_id = 4\n",
    "colony = len(np.unique(data_df[data_df['colony_id'] == colony_id-1][['ant_id']])) + 1\n",
    "data_df = data_df[(data_df['colony_id'] == colony_id) & (data_df['ant_id'] == ant_id)]\n",
    "\n",
    "num_ant = colony + ant_id\n",
    "data_df.reset_index(inplace = True)\n",
    "data = data_df[['location_x', 'location_y']]\n",
    "print(num_ant)"
   ]
  },
  {
   "cell_type": "code",
   "execution_count": 53,
   "id": "e82a1550",
   "metadata": {},
   "outputs": [
    {
     "name": "stdout",
     "output_type": "stream",
     "text": [
      "      location_x  location_y\n",
      "0          57.22      158.27\n",
      "1          58.90      160.38\n",
      "2          59.57      160.71\n",
      "3          57.84      159.43\n",
      "4          57.27      158.89\n",
      "...          ...         ...\n",
      "1435       63.99      154.84\n",
      "1436       63.99      154.84\n",
      "1437       63.99      154.84\n",
      "1438       63.99      154.84\n",
      "1439       63.99      154.84\n",
      "\n",
      "[1440 rows x 2 columns]\n"
     ]
    }
   ],
   "source": [
    "# Step 2: Data Preparation\n",
    "#creating the train and validation set\n",
    "train = data[:int(0.5*(len(data)))]\n",
    "valid = data[int(0.5*(len(data))):]\n",
    "print(train)"
   ]
  },
  {
   "cell_type": "code",
   "execution_count": null,
   "id": "982e0e86",
   "metadata": {},
   "outputs": [
    {
     "name": "stderr",
     "output_type": "stream",
     "text": [
      "  0%|          | 0/5 [00:00<?, ?it/s]\n",
      "  0%|          | 0/5 [00:00<?, ?it/s]\u001b[A\n",
      " 40%|████      | 2/5 [00:01<00:02,  1.21it/s]\u001b[A/Users/isabelle/opt/anaconda3/lib/python3.8/site-packages/statsmodels/base/model.py:566: ConvergenceWarning: Maximum Likelihood optimization failed to converge. Check mle_retvals\n",
      "  warnings.warn(\"Maximum Likelihood optimization failed to \"\n",
      "\n",
      " 60%|██████    | 3/5 [00:05<00:03,  1.91s/it]\u001b[A/Users/isabelle/opt/anaconda3/lib/python3.8/site-packages/statsmodels/base/model.py:566: ConvergenceWarning: Maximum Likelihood optimization failed to converge. Check mle_retvals\n",
      "  warnings.warn(\"Maximum Likelihood optimization failed to \"\n",
      "\n",
      " 80%|████████  | 4/5 [00:09<00:02,  2.95s/it]\u001b[A/Users/isabelle/opt/anaconda3/lib/python3.8/site-packages/statsmodels/base/model.py:566: ConvergenceWarning: Maximum Likelihood optimization failed to converge. Check mle_retvals\n",
      "  warnings.warn(\"Maximum Likelihood optimization failed to \"\n",
      "\n",
      "100%|██████████| 5/5 [00:19<00:00,  3.88s/it]\u001b[A\n",
      " 20%|██        | 1/5 [00:19<01:17, 19.41s/it]\n",
      "  0%|          | 0/5 [00:00<?, ?it/s]\u001b[A\n",
      " 20%|██        | 1/5 [00:00<00:02,  1.85it/s]\u001b[A/Users/isabelle/opt/anaconda3/lib/python3.8/site-packages/statsmodels/tsa/statespace/varmax.py:161: EstimationWarning: Estimation of VARMA(p,q) models is not generically robust, due especially to identification issues.\n",
      "  warn('Estimation of VARMA(p,q) models is not generically robust,'\n",
      "\n",
      " 40%|████      | 2/5 [00:03<00:05,  1.77s/it]\u001b[A/Users/isabelle/opt/anaconda3/lib/python3.8/site-packages/statsmodels/tsa/statespace/varmax.py:161: EstimationWarning: Estimation of VARMA(p,q) models is not generically robust, due especially to identification issues.\n",
      "  warn('Estimation of VARMA(p,q) models is not generically robust,'\n",
      "\n",
      " 60%|██████    | 3/5 [00:07<00:05,  2.85s/it]\u001b[A/Users/isabelle/opt/anaconda3/lib/python3.8/site-packages/statsmodels/tsa/statespace/varmax.py:161: EstimationWarning: Estimation of VARMA(p,q) models is not generically robust, due especially to identification issues.\n",
      "  warn('Estimation of VARMA(p,q) models is not generically robust,'\n",
      "/Users/isabelle/opt/anaconda3/lib/python3.8/site-packages/statsmodels/base/model.py:566: ConvergenceWarning: Maximum Likelihood optimization failed to converge. Check mle_retvals\n",
      "  warnings.warn(\"Maximum Likelihood optimization failed to \"\n",
      "\n",
      " 80%|████████  | 4/5 [00:12<00:03,  3.68s/it]\u001b[A/Users/isabelle/opt/anaconda3/lib/python3.8/site-packages/statsmodels/tsa/statespace/varmax.py:161: EstimationWarning: Estimation of VARMA(p,q) models is not generically robust, due especially to identification issues.\n",
      "  warn('Estimation of VARMA(p,q) models is not generically robust,'\n",
      "/Users/isabelle/opt/anaconda3/lib/python3.8/site-packages/statsmodels/base/model.py:566: ConvergenceWarning: Maximum Likelihood optimization failed to converge. Check mle_retvals\n",
      "  warnings.warn(\"Maximum Likelihood optimization failed to \"\n",
      "\n",
      "100%|██████████| 5/5 [00:22<00:00,  4.48s/it]\u001b[A\n",
      " 40%|████      | 2/5 [00:41<01:03, 21.18s/it]\n",
      "  0%|          | 0/5 [00:00<?, ?it/s]\u001b[A\n",
      " 20%|██        | 1/5 [00:02<00:09,  2.42s/it]\u001b[A/Users/isabelle/opt/anaconda3/lib/python3.8/site-packages/statsmodels/tsa/statespace/varmax.py:161: EstimationWarning: Estimation of VARMA(p,q) models is not generically robust, due especially to identification issues.\n",
      "  warn('Estimation of VARMA(p,q) models is not generically robust,'\n",
      "/Users/isabelle/opt/anaconda3/lib/python3.8/site-packages/statsmodels/base/model.py:566: ConvergenceWarning: Maximum Likelihood optimization failed to converge. Check mle_retvals\n",
      "  warnings.warn(\"Maximum Likelihood optimization failed to \"\n",
      "\n",
      " 40%|████      | 2/5 [00:06<00:10,  3.36s/it]\u001b[A/Users/isabelle/opt/anaconda3/lib/python3.8/site-packages/statsmodels/tsa/statespace/varmax.py:161: EstimationWarning: Estimation of VARMA(p,q) models is not generically robust, due especially to identification issues.\n",
      "  warn('Estimation of VARMA(p,q) models is not generically robust,'\n",
      "/Users/isabelle/opt/anaconda3/lib/python3.8/site-packages/statsmodels/base/model.py:566: ConvergenceWarning: Maximum Likelihood optimization failed to converge. Check mle_retvals\n",
      "  warnings.warn(\"Maximum Likelihood optimization failed to \"\n",
      "\n",
      " 60%|██████    | 3/5 [00:11<00:08,  4.19s/it]\u001b[A/Users/isabelle/opt/anaconda3/lib/python3.8/site-packages/statsmodels/tsa/statespace/varmax.py:161: EstimationWarning: Estimation of VARMA(p,q) models is not generically robust, due especially to identification issues.\n",
      "  warn('Estimation of VARMA(p,q) models is not generically robust,'\n",
      "/Users/isabelle/opt/anaconda3/lib/python3.8/site-packages/statsmodels/base/model.py:566: ConvergenceWarning: Maximum Likelihood optimization failed to converge. Check mle_retvals\n",
      "  warnings.warn(\"Maximum Likelihood optimization failed to \"\n",
      "\n",
      " 80%|████████  | 4/5 [00:20<00:06,  6.19s/it]\u001b[A/Users/isabelle/opt/anaconda3/lib/python3.8/site-packages/statsmodels/tsa/statespace/varmax.py:161: EstimationWarning: Estimation of VARMA(p,q) models is not generically robust, due especially to identification issues.\n",
      "  warn('Estimation of VARMA(p,q) models is not generically robust,'\n",
      "/Users/isabelle/opt/anaconda3/lib/python3.8/site-packages/statsmodels/base/model.py:566: ConvergenceWarning: Maximum Likelihood optimization failed to converge. Check mle_retvals\n",
      "  warnings.warn(\"Maximum Likelihood optimization failed to \"\n",
      "\n",
      "100%|██████████| 5/5 [00:31<00:00,  6.27s/it]\u001b[A\n",
      " 60%|██████    | 3/5 [01:13<00:51, 25.82s/it]\n",
      "  0%|          | 0/5 [00:00<?, ?it/s]\u001b[A\n",
      " 20%|██        | 1/5 [00:02<00:09,  2.34s/it]\u001b[A/Users/isabelle/opt/anaconda3/lib/python3.8/site-packages/statsmodels/tsa/statespace/varmax.py:161: EstimationWarning: Estimation of VARMA(p,q) models is not generically robust, due especially to identification issues.\n",
      "  warn('Estimation of VARMA(p,q) models is not generically robust,'\n",
      "/Users/isabelle/opt/anaconda3/lib/python3.8/site-packages/statsmodels/base/model.py:566: ConvergenceWarning: Maximum Likelihood optimization failed to converge. Check mle_retvals\n",
      "  warnings.warn(\"Maximum Likelihood optimization failed to \"\n",
      "\n",
      " 40%|████      | 2/5 [00:07<00:12,  4.24s/it]\u001b[A/Users/isabelle/opt/anaconda3/lib/python3.8/site-packages/statsmodels/tsa/statespace/varmax.py:161: EstimationWarning: Estimation of VARMA(p,q) models is not generically robust, due especially to identification issues.\n",
      "  warn('Estimation of VARMA(p,q) models is not generically robust,'\n",
      "/Users/isabelle/opt/anaconda3/lib/python3.8/site-packages/statsmodels/base/model.py:566: ConvergenceWarning: Maximum Likelihood optimization failed to converge. Check mle_retvals\n",
      "  warnings.warn(\"Maximum Likelihood optimization failed to \"\n",
      "\n",
      " 60%|██████    | 3/5 [00:17<00:13,  6.59s/it]\u001b[A/Users/isabelle/opt/anaconda3/lib/python3.8/site-packages/statsmodels/tsa/statespace/varmax.py:161: EstimationWarning: Estimation of VARMA(p,q) models is not generically robust, due especially to identification issues.\n",
      "  warn('Estimation of VARMA(p,q) models is not generically robust,'\n",
      "/Users/isabelle/opt/anaconda3/lib/python3.8/site-packages/statsmodels/base/model.py:566: ConvergenceWarning: Maximum Likelihood optimization failed to converge. Check mle_retvals\n",
      "  warnings.warn(\"Maximum Likelihood optimization failed to \"\n",
      "\n",
      " 80%|████████  | 4/5 [00:28<00:08,  8.28s/it]\u001b[A/Users/isabelle/opt/anaconda3/lib/python3.8/site-packages/statsmodels/tsa/statespace/varmax.py:161: EstimationWarning: Estimation of VARMA(p,q) models is not generically robust, due especially to identification issues.\n",
      "  warn('Estimation of VARMA(p,q) models is not generically robust,'\n"
     ]
    }
   ],
   "source": [
    "tmp = []\n",
    "for p in tqdm(range(5)):\n",
    "    for q in tqdm(range(5)):\n",
    "        try:\n",
    "            tmp.append([VARMAX(train, order = (p,q)).fit().bic, p, q])\n",
    "        except:\n",
    "            tmp.append([None, p, q])\n",
    "tmp = pd.DataFrame(tmp,columns = ['bic', 'p', 'q'])\n",
    "print(tmp)\n",
    "order = tmp[tmp['bic'] == tmp['bic'].min()]\n",
    "print(order)"
   ]
  },
  {
   "cell_type": "code",
   "execution_count": null,
   "id": "bb6f2f17",
   "metadata": {},
   "outputs": [],
   "source": [
    "prediction_x = list()\n",
    "prediction_y = list()\n",
    "\n",
    "for i in range(len(train)):\n",
    "    prediction_x.append(train.iloc[i, 0])\n",
    "    prediction_y.append(train.iloc[i, 1])\n",
    "\n",
    "start_t = len(train)\n",
    "for t_i in tqdm(range(len(valid))):\n",
    "    current_t = t_i + start_t\n",
    "    model = VARMAX(data[t_i:current_t], order = (order['p'], order['q']))\n",
    "    fitted_model = model.fit()\n",
    "    prediction = fitted_model.forecast().reset_index(drop=True) \n",
    "    prediction_x.append(prediction['location_x']) \n",
    "    prediction_y.append(prediction['location_y']) \n",
    "    \n"
   ]
  },
  {
   "cell_type": "code",
   "execution_count": null,
   "id": "6fabbb23",
   "metadata": {},
   "outputs": [],
   "source": [
    "#plot_time_series(ts_1 = prediction_chamber, ts_label_1 = 'VARMA Model', ts_2 = valid['chamber'], ts_label_2 = 'Close', title = 'VARMA predictions vs. ground truth')\n",
    "plot_time_series(ts_1 = prediction_x, ts_label_1 = 'VARMA Model', ts_2 = data_df['location_x'], ts_label_2 = 'Close', title = 'VARMA predictions vs. ground truth of location x')\n",
    "plot_time_series(ts_1 = prediction_y, ts_label_1 = 'VARMA Model', ts_2 = data_df['location_y'], ts_label_2 = 'Close', title = 'VARMA predictions vs. ground truth of location y')\n"
   ]
  },
  {
   "cell_type": "code",
   "execution_count": null,
   "id": "4a7c52a8",
   "metadata": {},
   "outputs": [],
   "source": [
    "def num_chamber(list_x, list_y):\n",
    "    list_c = list()\n",
    "    for i in range(len(list_x)):\n",
    "        x = int(list_x[i])\n",
    "        y = int(list_y[i])\n",
    "        if (y > 178):\n",
    "            list_c.append(5)\n",
    "        else:\n",
    "            if ((y <= 0)&(x <= 0)):\n",
    "                list_c.append(5)\n",
    "            else:\n",
    "                if (y <= 46):\n",
    "                    list_c.append(1)\n",
    "                else:\n",
    "                    if (y <= 92):\n",
    "                        list_c.append(2)\n",
    "                    else:\n",
    "                        if (y <= 138):\n",
    "                            list_c.append(3)\n",
    "                        else:\n",
    "                            list_c.append(4)\n",
    "    return list_c  "
   ]
  },
  {
   "cell_type": "code",
   "execution_count": null,
   "id": "5cf85866",
   "metadata": {},
   "outputs": [],
   "source": [
    "prediction_c = num_chamber(prediction_x, prediction_y)\n",
    "prediction_c = pd.DataFrame(prediction_c, columns = ['%i'%num_ant])\n",
    "prediction_c.to_csv('../dataset/insect/ant/prediction/prediction_%i.csv'%num_ant, index = False)"
   ]
  },
  {
   "cell_type": "code",
   "execution_count": null,
   "id": "f1bd46d8",
   "metadata": {},
   "outputs": [],
   "source": []
  }
 ],
 "metadata": {
  "kernelspec": {
   "display_name": "Python 3",
   "language": "python",
   "name": "python3"
  },
  "language_info": {
   "codemirror_mode": {
    "name": "ipython",
    "version": 3
   },
   "file_extension": ".py",
   "mimetype": "text/x-python",
   "name": "python",
   "nbconvert_exporter": "python",
   "pygments_lexer": "ipython3",
   "version": "3.8.8"
  }
 },
 "nbformat": 4,
 "nbformat_minor": 5
}
