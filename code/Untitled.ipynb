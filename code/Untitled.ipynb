{
 "cells": [
  {
   "cell_type": "code",
   "execution_count": 1,
   "id": "eddc4c60",
   "metadata": {},
   "outputs": [],
   "source": [
    "import os"
   ]
  },
  {
   "cell_type": "code",
   "execution_count": 2,
   "id": "67720591",
   "metadata": {},
   "outputs": [],
   "source": [
    "def import_data(num_colony):\n",
    "    path = \"../dataset/insect/ant/tracking data/ant tracking data/Colony %i/Colony_%i_low_density_locations\" % (num_colony, num_colony) #文件夹目录\n",
    "    files= os.listdir(path) # get all the files in the folder\n",
    "    index = 0\n",
    "    for file in files: # iterator for traversing all the files\n",
    "        if not os.path.isdir(file): # check if it is a file  \n",
    "            f = open(path+\"/\"+file); # open the file\n",
    "            iter_f = iter(f); # iterator for reading\n",
    "            for line in iter_f:\n",
    "                list_from_line = line.split(',')\n",
    "                return_matrix[index,:] = lis_from_line[0:3]\n",
    "                index += 1          "
   ]
  },
  {
   "cell_type": "code",
   "execution_count": 4,
   "id": "102316d7",
   "metadata": {},
   "outputs": [
    {
     "name": "stderr",
     "output_type": "stream",
     "text": [
      "IOPub data rate exceeded.\n",
      "The notebook server will temporarily stop sending output\n",
      "to the client in order to avoid crashing it.\n",
      "To change this limit, set the config variable\n",
      "`--NotebookApp.iopub_data_rate_limit`.\n",
      "\n",
      "Current values:\n",
      "NotebookApp.iopub_data_rate_limit=1000000.0 (bytes/sec)\n",
      "NotebookApp.rate_limit_window=3.0 (secs)\n",
      "\n"
     ]
    }
   ],
   "source": [
    "import_data(1)"
   ]
  },
  {
   "cell_type": "code",
   "execution_count": null,
   "id": "6fb46fa2",
   "metadata": {},
   "outputs": [],
   "source": []
  }
 ],
 "metadata": {
  "kernelspec": {
   "display_name": "Python 3",
   "language": "python",
   "name": "python3"
  },
  "language_info": {
   "codemirror_mode": {
    "name": "ipython",
    "version": 3
   },
   "file_extension": ".py",
   "mimetype": "text/x-python",
   "name": "python",
   "nbconvert_exporter": "python",
   "pygments_lexer": "ipython3",
   "version": "3.8.8"
  }
 },
 "nbformat": 4,
 "nbformat_minor": 5
}
