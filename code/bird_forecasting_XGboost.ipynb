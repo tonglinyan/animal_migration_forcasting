{
 "cells": [
  {
   "cell_type": "code",
   "execution_count": 1,
   "id": "ed2610c1",
   "metadata": {},
   "outputs": [],
   "source": [
    "import pandas as pd\n",
    "from pandas import DataFrame\n",
    "import numpy as np\n",
    "import math\n",
    "from random import random\n",
    "import matplotlib.pyplot as plt\n",
    "import seaborn as sns\n",
    "import operator\n",
    "from functools import reduce\n",
    "from tqdm import tqdm\n",
    "import matplotlib.animation as ani\n",
    "import plotly.graph_objects as go\n",
    "from sklearn.metrics import mean_absolute_error\n",
    "import xgboost as xgb\n",
    "from sklearn import metrics"
   ]
  },
  {
   "cell_type": "code",
   "execution_count": 2,
   "id": "cf1d513c",
   "metadata": {},
   "outputs": [],
   "source": [
    "np.set_printoptions(formatter={'float': lambda x: \"{0:0.3f}\".format(x)})\n",
    "plt.rcParams[\"font.family\"] = \"Times New Roman\"\n",
    "plt.style.use('seaborn-whitegrid')\n",
    "plt.style.use('seaborn-poster')\n",
    "plt.style.use('seaborn-dark-palette')\n",
    "plt.rcParams[\"mathtext.fontset\"] = \"cm\""
   ]
  },
  {
   "cell_type": "code",
   "execution_count": null,
   "id": "e7c1d143",
   "metadata": {},
   "outputs": [],
   "source": []
  },
  {
   "cell_type": "code",
   "execution_count": 9,
   "id": "93da1b92",
   "metadata": {},
   "outputs": [],
   "source": [
    "def xgboost_one_step(data, coef, radar):\n",
    "    predictions = []\n",
    "    t_i = int(coef * len(data))\n",
    "    # step over each time-step in the test set\n",
    "    X = data.iloc[:,1:]\n",
    "    y = data.iloc[:,0] \n",
    "    \n",
    "    for i in tqdm(range(int((1-coef) * len(data)))):\n",
    "        current_t = t_i + i\n",
    "        # split test row into input and output columns\n",
    "        \n",
    "        testX = X.iloc[current_t, :]\n",
    "        trainX, trainY = X[:current_t], y[:current_t]\n",
    "        # fit model on history and make a prediction\n",
    "        yhat = xgboost_forecast(trainX.values, trainY.values, testX.values.reshape(1,-1))\n",
    "        # store forecast in list of predictions\n",
    "        predictions.append(yhat)\n",
    "    # estimate prediction error\n",
    "    predictions = pd.DataFrame(predictions, columns = [radar])\n",
    "    testY = y[(len(y) - len(predictions)):]\n",
    "    error = mean_absolute_error(testY, predictions)\n",
    "    r2 = metrics.r2_score(testY, predictions)\n",
    "    var = metrics.explained_variance_score(testY, predictions)\n",
    "    return predictions, r2, error, var\n",
    "\n",
    "# fit an xgboost model and make a one step prediction\n",
    "def xgboost_forecast(trainX, trainY, testX):\n",
    "    # fit model\n",
    "    model = xgb.XGBRegressor(objective='reg:squarederror', n_estimators=1000, seed = 1850)\n",
    "    model.fit(trainX, trainY)\n",
    "    # make a one-step prediction\n",
    "    yhat = model.predict(testX)\n",
    "    return yhat\n",
    "\n",
    "def xgboost_multi(data, coef, radar):\n",
    "    X = data.iloc[:,1:]\n",
    "    y = data.iloc[:,0]\n",
    "    trainX, testX = X[:int(coef * len(X))], X[int(coef * len(X)):]\n",
    "    trainY, testY = y[:int(coef * len(y))], y[int(coef * len(y)):]\n",
    "    #print(testX.values)\n",
    "    predictions = xgboost_forecast(trainX.values, trainY.values, testX.values)\n",
    "    predictions = pd.DataFrame(predictions, columns = [radar])\n",
    "    error = mean_absolute_error(testY, predictions)\n",
    "    r2 = metrics.r2_score(testY, predictions)\n",
    "    var = metrics.explained_variance_score(testY, predictions)\n",
    "    return predictions, r2, error, var"
   ]
  },
  {
   "cell_type": "markdown",
   "id": "7a5104ff",
   "metadata": {},
   "source": [
    "### intensity lags"
   ]
  },
  {
   "cell_type": "code",
   "execution_count": 10,
   "id": "c01b27ef",
   "metadata": {
    "scrolled": false
   },
   "outputs": [
    {
     "name": "stderr",
     "output_type": "stream",
     "text": [
      "100%|██████████| 453/453 [06:39<00:00,  1.14it/s]\n"
     ]
    }
   ],
   "source": [
    "coef = 0.5\n",
    "radar = 'KABR'\n",
    "df_forecasting = pd.read_csv('../dataset/radar/features/intensity_lags.csv')\n",
    "pred_step1, r2_step1, mae_step1, var_step1 = xgboost_one_step(df_forecasting, coef, radar)\n",
    "pred_multi, r2_multi, mae_multi, var_multi = xgboost_multi(df_forecasting, coef, radar)"
   ]
  },
  {
   "cell_type": "code",
   "execution_count": 11,
   "id": "f74f246b",
   "metadata": {},
   "outputs": [
    {
     "name": "stdout",
     "output_type": "stream",
     "text": [
      "-0.28072383057848715 1311.4090106982587 -0.28071744757910055\n",
      "-0.24875734239346703 1253.096546795863 -0.24835855464725265\n"
     ]
    }
   ],
   "source": [
    "print(r2_step1, mae_step1, var_step1)\n",
    "print(r2_multi, mae_multi, var_multi)"
   ]
  },
  {
   "cell_type": "markdown",
   "id": "b100e05c",
   "metadata": {},
   "source": [
    "### lags mean"
   ]
  },
  {
   "cell_type": "code",
   "execution_count": 12,
   "id": "8f7d9033",
   "metadata": {},
   "outputs": [
    {
     "name": "stderr",
     "output_type": "stream",
     "text": [
      "100%|██████████| 414/414 [05:12<00:00,  1.32it/s]\n"
     ]
    },
    {
     "name": "stdout",
     "output_type": "stream",
     "text": [
      "-0.1337664803843155 1189.466164317569 -0.13335793449233346\n",
      "-0.13263833001387426 1250.6226884297091 -0.13263020810109394\n"
     ]
    }
   ],
   "source": [
    "coef = 0.5\n",
    "radar = 'KABR'\n",
    "df_forecasting = pd.read_csv('../dataset/radar/features/lags_mean.csv')\n",
    "pred_step1, r2_step1, mae_step1, var_step1 = xgboost_one_step(df_forecasting, coef, radar)\n",
    "pred_multi, r2_multi, mae_multi, var_multi = xgboost_multi(df_forecasting, coef, radar)\n",
    "print(r2_step1, mae_step1, var_step1)\n",
    "print(r2_multi, mae_multi, var_multi)"
   ]
  },
  {
   "cell_type": "markdown",
   "id": "3d53362b",
   "metadata": {},
   "source": [
    "### weather lags (t-2) selected"
   ]
  },
  {
   "cell_type": "code",
   "execution_count": 19,
   "id": "439aaaf6",
   "metadata": {},
   "outputs": [
    {
     "name": "stderr",
     "output_type": "stream",
     "text": [
      "100%|██████████| 459/459 [35:16<00:00,  4.61s/it]\n"
     ]
    },
    {
     "name": "stdout",
     "output_type": "stream",
     "text": [
      "-0.49038889429053945 1181.457509366874 -0.4882807630362207\n",
      "-0.4169311598972145 1144.1870198327467 -0.4167698246449918\n"
     ]
    }
   ],
   "source": [
    "coef = 0.5\n",
    "radar = 'KABR'\n",
    "df_forecasting = pd.read_csv('../dataset/radar/features/weather_lags2_selected.csv')\n",
    "pred_step1, r2_step1, mae_step1, var_step1 = xgboost_one_step(df_forecasting, coef, radar)\n",
    "pred_multi, r2_multi, mae_multi, var_multi = xgboost_multi(df_forecasting, coef, radar)\n",
    "print(r2_step1, mae_step1, var_step1)\n",
    "print(r2_multi, mae_multi, var_multi)"
   ]
  },
  {
   "cell_type": "markdown",
   "id": "10c6c12a",
   "metadata": {},
   "source": [
    "### weather lags (t-2)"
   ]
  },
  {
   "cell_type": "code",
   "execution_count": 20,
   "id": "f3fdf46f",
   "metadata": {},
   "outputs": [
    {
     "name": "stderr",
     "output_type": "stream",
     "text": [
      "100%|██████████| 459/459 [34:31<00:00,  4.51s/it]\n"
     ]
    },
    {
     "name": "stdout",
     "output_type": "stream",
     "text": [
      "0.02079011908859074 956.8834620107923 0.028254088184270443\n",
      "-0.6689782141176692 1112.6447770450654 -0.6509164446126239\n"
     ]
    }
   ],
   "source": [
    "coef = 0.5\n",
    "radar = 'KABR'\n",
    "df_forecasting = pd.read_csv('../dataset/radar/features/weather_lags2.csv')\n",
    "pred_step1, r2_step1, mae_step1, var_step1 = xgboost_one_step(df_forecasting, coef, radar)\n",
    "pred_multi, r2_multi, mae_multi, var_multi = xgboost_multi(df_forecasting, coef, radar)\n",
    "print(r2_step1, mae_step1, var_step1)\n",
    "print(r2_multi, mae_multi, var_multi)"
   ]
  },
  {
   "cell_type": "markdown",
   "id": "cac39249",
   "metadata": {},
   "source": [
    "### weather lags (t-5) selected"
   ]
  },
  {
   "cell_type": "code",
   "execution_count": null,
   "id": "549600bd",
   "metadata": {},
   "outputs": [
    {
     "name": "stderr",
     "output_type": "stream",
     "text": [
      " 55%|█████▌    | 253/457 [14:01<13:06,  3.86s/it]"
     ]
    }
   ],
   "source": [
    "coef = 0.5\n",
    "radar = 'KABR'\n",
    "df_forecasting = pd.read_csv('../dataset/radar/features/weather_lags5_selected.csv')\n",
    "pred_step1, r2_step1, mae_step1, var_step1 = xgboost_one_step(df_forecasting, coef, radar)\n",
    "pred_multi, r2_multi, mae_multi, var_multi = xgboost_multi(df_forecasting, coef, radar)\n",
    "print(r2_step1, mae_step1, var_step1)\n",
    "print(r2_multi, mae_multi, var_multi)"
   ]
  },
  {
   "cell_type": "markdown",
   "id": "65d01b91",
   "metadata": {},
   "source": [
    "### weather lags (t-5)"
   ]
  },
  {
   "cell_type": "code",
   "execution_count": null,
   "id": "097679e6",
   "metadata": {},
   "outputs": [],
   "source": [
    "coef = 0.5\n",
    "radar = 'KABR'\n",
    "df_forecasting = pd.read_csv('../dataset/radar/features/weather_lags5.csv')\n",
    "pred_step1, r2_step1, mae_step1, var_step1 = xgboost_one_step(df_forecasting, coef, radar)\n",
    "pred_multi, r2_multi, mae_multi, var_multi = xgboost_multi(df_forecasting, coef, radar)\n",
    "print(r2_step1, mae_step1, var_step1)\n",
    "print(r2_multi, mae_multi, var_multi)"
   ]
  },
  {
   "cell_type": "markdown",
   "id": "004561f6",
   "metadata": {},
   "source": [
    "### weather lags mean(t-2)"
   ]
  },
  {
   "cell_type": "code",
   "execution_count": null,
   "id": "6796ed29",
   "metadata": {},
   "outputs": [],
   "source": [
    "coef = 0.5\n",
    "radar = 'KABR'\n",
    "df_forecasting = pd.read_csv('../dataset/radar/features/weather_lags2_mean.csv')\n",
    "pred_step1, r2_step1, mae_step1, var_step1 = xgboost_one_step(df_forecasting, coef, radar)\n",
    "pred_multi, r2_multi, mae_multi, var_multi = xgboost_multi(df_forecasting, coef, radar)\n",
    "print(r2_step1, mae_step1, var_step1)\n",
    "print(r2_multi, mae_multi, var_multi)"
   ]
  },
  {
   "cell_type": "markdown",
   "id": "a0a7019d",
   "metadata": {},
   "source": [
    "### weather"
   ]
  },
  {
   "cell_type": "code",
   "execution_count": 16,
   "id": "b0f25eae",
   "metadata": {},
   "outputs": [
    {
     "name": "stderr",
     "output_type": "stream",
     "text": [
      "100%|██████████| 460/460 [12:04<00:00,  1.57s/it]\n"
     ]
    },
    {
     "name": "stdout",
     "output_type": "stream",
     "text": [
      "-0.17458480364667306 982.0138259239143 -0.1654198033680363\n",
      "-1.8034394605827542 1405.8023561708965 -1.7293858548579357\n"
     ]
    }
   ],
   "source": [
    "coef = 0.5\n",
    "radar = 'KABR'\n",
    "df_forecasting = pd.read_csv('../dataset/radar/features/weather.csv')\n",
    "pred_step1, r2_step1, mae_step1, var_step1 = xgboost_one_step(df_forecasting, coef, radar)\n",
    "pred_multi, r2_multi, mae_multi, var_multi = xgboost_multi(df_forecasting, coef, radar)\n",
    "print(r2_step1, mae_step1, var_step1)\n",
    "print(r2_multi, mae_multi, var_multi)"
   ]
  },
  {
   "cell_type": "code",
   "execution_count": null,
   "id": "0509a791",
   "metadata": {},
   "outputs": [],
   "source": []
  },
  {
   "cell_type": "code",
   "execution_count": null,
   "id": "91cd560d",
   "metadata": {},
   "outputs": [],
   "source": []
  },
  {
   "cell_type": "code",
   "execution_count": null,
   "id": "5f4c6a72",
   "metadata": {},
   "outputs": [],
   "source": []
  }
 ],
 "metadata": {
  "kernelspec": {
   "display_name": "Python 3",
   "language": "python",
   "name": "python3"
  },
  "language_info": {
   "codemirror_mode": {
    "name": "ipython",
    "version": 3
   },
   "file_extension": ".py",
   "mimetype": "text/x-python",
   "name": "python",
   "nbconvert_exporter": "python",
   "pygments_lexer": "ipython3",
   "version": "3.8.8"
  }
 },
 "nbformat": 4,
 "nbformat_minor": 5
}
