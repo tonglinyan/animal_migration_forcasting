{
 "cells": [
  {
   "cell_type": "code",
   "execution_count": 1,
   "id": "a53b41f9",
   "metadata": {},
   "outputs": [],
   "source": [
    "from utils.viz import plot_time_series, plot_balance, plot_balance_vs_price\n",
    "import matplotlib.pyplot as plt\n",
    "import numpy as np"
   ]
  },
  {
   "cell_type": "code",
   "execution_count": 2,
   "id": "d6c77089",
   "metadata": {},
   "outputs": [],
   "source": [
    "np.set_printoptions(formatter={'float': lambda x: \"{0:0.3f}\".format(x)})\n",
    "plt.rcParams[\"font.family\"] = \"Times New Roman\"\n",
    "plt.style.use('seaborn-whitegrid')\n",
    "plt.style.use('seaborn-poster')\n",
    "plt.style.use('seaborn-dark-palette')\n",
    "plt.rcParams[\"mathtext.fontset\"] = \"cm\""
   ]
  },
  {
   "cell_type": "code",
   "execution_count": 3,
   "id": "f788ce14",
   "metadata": {},
   "outputs": [],
   "source": [
    "import pandas as pd\n",
    "from tqdm import tqdm\n",
    "from statsmodels.tsa.statespace.varmax import VARMAX"
   ]
  },
  {
   "cell_type": "code",
   "execution_count": 4,
   "id": "41db585b",
   "metadata": {},
   "outputs": [],
   "source": [
    "# Step 1: Data Loading\n",
    "data_df = pd.read_csv('../dataset/insect/ant/location_in_mm.csv')\n",
    "colony_id = 1\n",
    "ant_id = 1\n",
    "data_df = data_df[(data_df['colony_id']==colony_id) & (data_df['ant_id']==ant_id)]\n",
    "ant_num = colony_id + ant_id\n",
    "data_df.reset_index(inplace = True)\n",
    "data = data_df[['location_x', 'location_y']]"
   ]
  },
  {
   "cell_type": "code",
   "execution_count": 5,
   "id": "e82a1550",
   "metadata": {},
   "outputs": [
    {
     "name": "stdout",
     "output_type": "stream",
     "text": [
      "      location_x  location_y\n",
      "0          61.73       15.44\n",
      "1          61.55       15.48\n",
      "2          61.55       15.40\n",
      "3          61.55       15.44\n",
      "4          61.55       15.44\n",
      "...          ...         ...\n",
      "1435       55.01       14.61\n",
      "1436       55.01       14.61\n",
      "1437       55.01       14.61\n",
      "1438       55.01       14.61\n",
      "1439       55.01       14.61\n",
      "\n",
      "[1440 rows x 2 columns]\n"
     ]
    }
   ],
   "source": [
    "# Step 2: Data Preparation\n",
    "#creating the train and validation set\n",
    "train = data[:int(0.5*(len(data)))]\n",
    "valid = data[int(0.5*(len(data))):]\n",
    "print(train)"
   ]
  },
  {
   "cell_type": "code",
   "execution_count": 6,
   "id": "982e0e86",
   "metadata": {},
   "outputs": [
    {
     "name": "stderr",
     "output_type": "stream",
     "text": [
      "  0%|          | 0/5 [00:00<?, ?it/s]\n",
      "  0%|          | 0/5 [00:00<?, ?it/s]\u001b[A/Users/isabelle/opt/anaconda3/lib/python3.8/site-packages/statsmodels/base/model.py:566: ConvergenceWarning: Maximum Likelihood optimization failed to converge. Check mle_retvals\n",
      "  warnings.warn(\"Maximum Likelihood optimization failed to \"\n",
      "\n",
      " 40%|████      | 2/5 [00:02<00:03,  1.23s/it]\u001b[A/Users/isabelle/opt/anaconda3/lib/python3.8/site-packages/statsmodels/base/model.py:566: ConvergenceWarning: Maximum Likelihood optimization failed to converge. Check mle_retvals\n",
      "  warnings.warn(\"Maximum Likelihood optimization failed to \"\n",
      "\n",
      " 60%|██████    | 3/5 [00:05<00:03,  1.80s/it]\u001b[A/Users/isabelle/opt/anaconda3/lib/python3.8/site-packages/statsmodels/base/model.py:566: ConvergenceWarning: Maximum Likelihood optimization failed to converge. Check mle_retvals\n",
      "  warnings.warn(\"Maximum Likelihood optimization failed to \"\n",
      "\n",
      " 80%|████████  | 4/5 [00:09<00:02,  2.68s/it]\u001b[A/Users/isabelle/opt/anaconda3/lib/python3.8/site-packages/statsmodels/base/model.py:566: ConvergenceWarning: Maximum Likelihood optimization failed to converge. Check mle_retvals\n",
      "  warnings.warn(\"Maximum Likelihood optimization failed to \"\n",
      "\n",
      "100%|██████████| 5/5 [00:15<00:00,  3.06s/it]\u001b[A\n",
      " 20%|██        | 1/5 [00:15<01:01, 15.31s/it]\n",
      "  0%|          | 0/5 [00:00<?, ?it/s]\u001b[A\n",
      " 20%|██        | 1/5 [00:01<00:05,  1.42s/it]\u001b[A/Users/isabelle/opt/anaconda3/lib/python3.8/site-packages/statsmodels/tsa/statespace/varmax.py:161: EstimationWarning: Estimation of VARMA(p,q) models is not generically robust, due especially to identification issues.\n",
      "  warn('Estimation of VARMA(p,q) models is not generically robust,'\n",
      "/Users/isabelle/opt/anaconda3/lib/python3.8/site-packages/statsmodels/base/model.py:566: ConvergenceWarning: Maximum Likelihood optimization failed to converge. Check mle_retvals\n",
      "  warnings.warn(\"Maximum Likelihood optimization failed to \"\n",
      "\n",
      " 40%|████      | 2/5 [00:03<00:05,  1.83s/it]\u001b[A/Users/isabelle/opt/anaconda3/lib/python3.8/site-packages/statsmodels/tsa/statespace/varmax.py:161: EstimationWarning: Estimation of VARMA(p,q) models is not generically robust, due especially to identification issues.\n",
      "  warn('Estimation of VARMA(p,q) models is not generically robust,'\n",
      "/Users/isabelle/opt/anaconda3/lib/python3.8/site-packages/statsmodels/base/model.py:566: ConvergenceWarning: Maximum Likelihood optimization failed to converge. Check mle_retvals\n",
      "  warnings.warn(\"Maximum Likelihood optimization failed to \"\n",
      "\n",
      " 60%|██████    | 3/5 [00:06<00:04,  2.37s/it]\u001b[A/Users/isabelle/opt/anaconda3/lib/python3.8/site-packages/statsmodels/tsa/statespace/varmax.py:161: EstimationWarning: Estimation of VARMA(p,q) models is not generically robust, due especially to identification issues.\n",
      "  warn('Estimation of VARMA(p,q) models is not generically robust,'\n",
      "/Users/isabelle/opt/anaconda3/lib/python3.8/site-packages/statsmodels/base/model.py:566: ConvergenceWarning: Maximum Likelihood optimization failed to converge. Check mle_retvals\n",
      "  warnings.warn(\"Maximum Likelihood optimization failed to \"\n",
      "\n",
      " 80%|████████  | 4/5 [00:10<00:02,  2.96s/it]\u001b[A/Users/isabelle/opt/anaconda3/lib/python3.8/site-packages/statsmodels/tsa/statespace/varmax.py:161: EstimationWarning: Estimation of VARMA(p,q) models is not generically robust, due especially to identification issues.\n",
      "  warn('Estimation of VARMA(p,q) models is not generically robust,'\n",
      "/Users/isabelle/opt/anaconda3/lib/python3.8/site-packages/statsmodels/base/model.py:566: ConvergenceWarning: Maximum Likelihood optimization failed to converge. Check mle_retvals\n",
      "  warnings.warn(\"Maximum Likelihood optimization failed to \"\n",
      "\n",
      "100%|██████████| 5/5 [00:17<00:00,  3.49s/it]\u001b[A\n",
      " 40%|████      | 2/5 [00:32<00:49, 16.58s/it]\n",
      "  0%|          | 0/5 [00:00<?, ?it/s]\u001b[A\n",
      " 20%|██        | 1/5 [00:01<00:04,  1.05s/it]\u001b[A/Users/isabelle/opt/anaconda3/lib/python3.8/site-packages/statsmodels/tsa/statespace/varmax.py:161: EstimationWarning: Estimation of VARMA(p,q) models is not generically robust, due especially to identification issues.\n",
      "  warn('Estimation of VARMA(p,q) models is not generically robust,'\n",
      "/Users/isabelle/opt/anaconda3/lib/python3.8/site-packages/statsmodels/base/model.py:566: ConvergenceWarning: Maximum Likelihood optimization failed to converge. Check mle_retvals\n",
      "  warnings.warn(\"Maximum Likelihood optimization failed to \"\n",
      "\n",
      " 40%|████      | 2/5 [00:04<00:07,  2.61s/it]\u001b[A/Users/isabelle/opt/anaconda3/lib/python3.8/site-packages/statsmodels/tsa/statespace/varmax.py:161: EstimationWarning: Estimation of VARMA(p,q) models is not generically robust, due especially to identification issues.\n",
      "  warn('Estimation of VARMA(p,q) models is not generically robust,'\n",
      "/Users/isabelle/opt/anaconda3/lib/python3.8/site-packages/statsmodels/base/model.py:566: ConvergenceWarning: Maximum Likelihood optimization failed to converge. Check mle_retvals\n",
      "  warnings.warn(\"Maximum Likelihood optimization failed to \"\n",
      "\n",
      " 60%|██████    | 3/5 [00:09<00:06,  3.37s/it]\u001b[A/Users/isabelle/opt/anaconda3/lib/python3.8/site-packages/statsmodels/tsa/statespace/varmax.py:161: EstimationWarning: Estimation of VARMA(p,q) models is not generically robust, due especially to identification issues.\n",
      "  warn('Estimation of VARMA(p,q) models is not generically robust,'\n",
      "/Users/isabelle/opt/anaconda3/lib/python3.8/site-packages/statsmodels/base/model.py:566: ConvergenceWarning: Maximum Likelihood optimization failed to converge. Check mle_retvals\n",
      "  warnings.warn(\"Maximum Likelihood optimization failed to \"\n",
      "\n",
      " 80%|████████  | 4/5 [00:16<00:04,  4.98s/it]\u001b[A/Users/isabelle/opt/anaconda3/lib/python3.8/site-packages/statsmodels/tsa/statespace/varmax.py:161: EstimationWarning: Estimation of VARMA(p,q) models is not generically robust, due especially to identification issues.\n",
      "  warn('Estimation of VARMA(p,q) models is not generically robust,'\n",
      "/Users/isabelle/opt/anaconda3/lib/python3.8/site-packages/statsmodels/base/model.py:566: ConvergenceWarning: Maximum Likelihood optimization failed to converge. Check mle_retvals\n",
      "  warnings.warn(\"Maximum Likelihood optimization failed to \"\n",
      "\n",
      "100%|██████████| 5/5 [00:24<00:00,  4.99s/it]\u001b[A\n",
      " 60%|██████    | 3/5 [00:57<00:40, 20.41s/it]\n",
      "  0%|          | 0/5 [00:00<?, ?it/s]\u001b[A\n",
      " 20%|██        | 1/5 [00:01<00:06,  1.51s/it]\u001b[A/Users/isabelle/opt/anaconda3/lib/python3.8/site-packages/statsmodels/tsa/statespace/varmax.py:161: EstimationWarning: Estimation of VARMA(p,q) models is not generically robust, due especially to identification issues.\n",
      "  warn('Estimation of VARMA(p,q) models is not generically robust,'\n",
      "/Users/isabelle/opt/anaconda3/lib/python3.8/site-packages/statsmodels/base/model.py:566: ConvergenceWarning: Maximum Likelihood optimization failed to converge. Check mle_retvals\n",
      "  warnings.warn(\"Maximum Likelihood optimization failed to \"\n",
      "\n",
      " 40%|████      | 2/5 [00:05<00:09,  3.14s/it]\u001b[A/Users/isabelle/opt/anaconda3/lib/python3.8/site-packages/statsmodels/tsa/statespace/varmax.py:161: EstimationWarning: Estimation of VARMA(p,q) models is not generically robust, due especially to identification issues.\n",
      "  warn('Estimation of VARMA(p,q) models is not generically robust,'\n",
      "/Users/isabelle/opt/anaconda3/lib/python3.8/site-packages/statsmodels/base/model.py:566: ConvergenceWarning: Maximum Likelihood optimization failed to converge. Check mle_retvals\n",
      "  warnings.warn(\"Maximum Likelihood optimization failed to \"\n",
      "\n",
      " 60%|██████    | 3/5 [00:13<00:10,  5.10s/it]\u001b[A/Users/isabelle/opt/anaconda3/lib/python3.8/site-packages/statsmodels/tsa/statespace/varmax.py:161: EstimationWarning: Estimation of VARMA(p,q) models is not generically robust, due especially to identification issues.\n",
      "  warn('Estimation of VARMA(p,q) models is not generically robust,'\n",
      "/Users/isabelle/opt/anaconda3/lib/python3.8/site-packages/statsmodels/base/model.py:566: ConvergenceWarning: Maximum Likelihood optimization failed to converge. Check mle_retvals\n",
      "  warnings.warn(\"Maximum Likelihood optimization failed to \"\n",
      "\n",
      " 80%|████████  | 4/5 [00:22<00:06,  6.78s/it]\u001b[A/Users/isabelle/opt/anaconda3/lib/python3.8/site-packages/statsmodels/tsa/statespace/varmax.py:161: EstimationWarning: Estimation of VARMA(p,q) models is not generically robust, due especially to identification issues.\n",
      "  warn('Estimation of VARMA(p,q) models is not generically robust,'\n"
     ]
    },
    {
     "name": "stderr",
     "output_type": "stream",
     "text": [
      "/Users/isabelle/opt/anaconda3/lib/python3.8/site-packages/statsmodels/base/model.py:566: ConvergenceWarning: Maximum Likelihood optimization failed to converge. Check mle_retvals\n",
      "  warnings.warn(\"Maximum Likelihood optimization failed to \"\n",
      "\n",
      "100%|██████████| 5/5 [00:35<00:00,  7.04s/it]\u001b[A\n",
      " 80%|████████  | 4/5 [01:32<00:26, 26.25s/it]\n",
      "  0%|          | 0/5 [00:00<?, ?it/s]\u001b[A\n",
      " 20%|██        | 1/5 [00:02<00:08,  2.18s/it]\u001b[A/Users/isabelle/opt/anaconda3/lib/python3.8/site-packages/statsmodels/tsa/statespace/varmax.py:161: EstimationWarning: Estimation of VARMA(p,q) models is not generically robust, due especially to identification issues.\n",
      "  warn('Estimation of VARMA(p,q) models is not generically robust,'\n",
      "/Users/isabelle/opt/anaconda3/lib/python3.8/site-packages/statsmodels/base/model.py:566: ConvergenceWarning: Maximum Likelihood optimization failed to converge. Check mle_retvals\n",
      "  warnings.warn(\"Maximum Likelihood optimization failed to \"\n",
      "\n",
      " 40%|████      | 2/5 [00:10<00:16,  5.64s/it]\u001b[A/Users/isabelle/opt/anaconda3/lib/python3.8/site-packages/statsmodels/tsa/statespace/varmax.py:161: EstimationWarning: Estimation of VARMA(p,q) models is not generically robust, due especially to identification issues.\n",
      "  warn('Estimation of VARMA(p,q) models is not generically robust,'\n",
      "/Users/isabelle/opt/anaconda3/lib/python3.8/site-packages/statsmodels/base/model.py:566: ConvergenceWarning: Maximum Likelihood optimization failed to converge. Check mle_retvals\n",
      "  warnings.warn(\"Maximum Likelihood optimization failed to \"\n",
      "\n",
      " 60%|██████    | 3/5 [00:19<00:14,  7.10s/it]\u001b[A/Users/isabelle/opt/anaconda3/lib/python3.8/site-packages/statsmodels/tsa/statespace/varmax.py:161: EstimationWarning: Estimation of VARMA(p,q) models is not generically robust, due especially to identification issues.\n",
      "  warn('Estimation of VARMA(p,q) models is not generically robust,'\n",
      "/Users/isabelle/opt/anaconda3/lib/python3.8/site-packages/statsmodels/base/model.py:566: ConvergenceWarning: Maximum Likelihood optimization failed to converge. Check mle_retvals\n",
      "  warnings.warn(\"Maximum Likelihood optimization failed to \"\n",
      "\n",
      " 80%|████████  | 4/5 [00:30<00:08,  8.84s/it]\u001b[A/Users/isabelle/opt/anaconda3/lib/python3.8/site-packages/statsmodels/tsa/statespace/varmax.py:161: EstimationWarning: Estimation of VARMA(p,q) models is not generically robust, due especially to identification issues.\n",
      "  warn('Estimation of VARMA(p,q) models is not generically robust,'\n",
      "/Users/isabelle/opt/anaconda3/lib/python3.8/site-packages/statsmodels/base/model.py:566: ConvergenceWarning: Maximum Likelihood optimization failed to converge. Check mle_retvals\n",
      "  warnings.warn(\"Maximum Likelihood optimization failed to \"\n",
      "\n",
      "100%|██████████| 5/5 [00:43<00:00,  8.72s/it]\u001b[A\n",
      "100%|██████████| 5/5 [02:16<00:00, 27.31s/it]"
     ]
    },
    {
     "name": "stdout",
     "output_type": "stream",
     "text": [
      "            bic  p  q\n",
      "0           NaN  0  0\n",
      "1   9303.364376  0  1\n",
      "2   8953.766606  0  2\n",
      "3   8417.407251  0  3\n",
      "4   7960.427762  0  4\n",
      "5   -282.866952  1  0\n",
      "6   -535.895960  1  1\n",
      "7   -572.135760  1  2\n",
      "8   -602.876744  1  3\n",
      "9   -624.362918  1  4\n",
      "10  -504.617674  2  0\n",
      "11  -557.951950  2  1\n",
      "12  -563.382951  2  2\n",
      "13  -602.109456  2  3\n",
      "14  -603.351085  2  4\n",
      "15  -519.718852  3  0\n",
      "16  -536.503994  3  1\n",
      "17  -552.124392  3  2\n",
      "18  -631.172350  3  3\n",
      "19  -639.599976  3  4\n",
      "20  -656.217363  4  0\n",
      "21  -628.517182  4  1\n",
      "22  -647.993489  4  2\n",
      "23  -655.209757  4  3\n",
      "24  -635.740072  4  4\n",
      "           bic  p  q\n",
      "20 -656.217363  4  0\n"
     ]
    },
    {
     "name": "stderr",
     "output_type": "stream",
     "text": [
      "\n"
     ]
    }
   ],
   "source": [
    "tmp = []\n",
    "for p in tqdm(range(5)):\n",
    "    for q in tqdm(range(5)):\n",
    "        try:\n",
    "            tmp.append([VARMAX(train, order = (p,q)).fit().bic, p, q])\n",
    "        except:\n",
    "            tmp.append([None, p, q])\n",
    "tmp = pd.DataFrame(tmp,columns = ['bic', 'p', 'q'])\n",
    "print(tmp)\n",
    "order = tmp[tmp['bic'] == tmp['bic'].min()]\n",
    "print(order)"
   ]
  },
  {
   "cell_type": "code",
   "execution_count": null,
   "id": "bb6f2f17",
   "metadata": {},
   "outputs": [
    {
     "name": "stderr",
     "output_type": "stream",
     "text": [
      "  8%|▊         | 108/1440 [05:20<42:32,  1.92s/it] "
     ]
    }
   ],
   "source": [
    "prediction_x = list()\n",
    "prediction_y = list()\n",
    "\n",
    "for i in range(len(train)):\n",
    "    prediction_x.append(train.iloc[i, 0])\n",
    "    prediction_y.append(train.iloc[i, 1])\n",
    "\n",
    "start_t = len(train)\n",
    "for t_i in tqdm(range(len(valid))):\n",
    "    current_t = t_i + start_t\n",
    "    model = VARMAX(data[t_i:current_t], order = (order['p'], order['q']))\n",
    "    fitted_model = model.fit()\n",
    "    prediction = fitted_model.forecast().reset_index(drop=True) \n",
    "    prediction_x.append(prediction['location_x']) \n",
    "    prediction_y.append(prediction['location_y']) \n",
    "    \n"
   ]
  },
  {
   "cell_type": "code",
   "execution_count": null,
   "id": "6fabbb23",
   "metadata": {},
   "outputs": [],
   "source": [
    "#plot_time_series(ts_1 = prediction_chamber, ts_label_1 = 'VARMA Model', ts_2 = valid['chamber'], ts_label_2 = 'Close', title = 'VARMA predictions vs. ground truth')\n",
    "plot_time_series(ts_1 = prediction_x, ts_label_1 = 'VARMA Model', ts_2 = data_df['location_x'], ts_label_2 = 'Close', title = 'VARMA predictions vs. ground truth of location x')\n",
    "plot_time_series(ts_1 = prediction_y, ts_label_1 = 'VARMA Model', ts_2 = data_df['location_y'], ts_label_2 = 'Close', title = 'VARMA predictions vs. ground truth of location y')\n"
   ]
  },
  {
   "cell_type": "code",
   "execution_count": null,
   "id": "4a7c52a8",
   "metadata": {},
   "outputs": [],
   "source": [
    "def num_chamber(list_x, list_y):\n",
    "    list_c = list()\n",
    "    for i in range(len(list_x)):\n",
    "        x = int(list_x[i])\n",
    "        y = int(list_y[i])\n",
    "        if (y > 178):\n",
    "            list_c.append(5)\n",
    "        else:\n",
    "            if ((y <= 0)&(x <= 0)):\n",
    "                list_c.append(5)\n",
    "            else:\n",
    "                if (y <= 46):\n",
    "                    list_c.append(1)\n",
    "                else:\n",
    "                    if (y <= 92):\n",
    "                        list_c.append(2)\n",
    "                    else:\n",
    "                        if (y <= 138):\n",
    "                            list_c.append(3)\n",
    "                        else:\n",
    "                            list_c.append(4)\n",
    "    return list_c  "
   ]
  },
  {
   "cell_type": "code",
   "execution_count": null,
   "id": "5cf85866",
   "metadata": {},
   "outputs": [],
   "source": [
    "prediction_c = num_chamber(prediction_x, prediction_y)\n",
    "prediction_c = pd.DataFrame(prediction_c, columns = ['%i'%num_ant])\n",
    "prediction_c.to_csv('../dataset/insect/ant/prediction_%i.csv'%num_ant, index = False)"
   ]
  },
  {
   "cell_type": "code",
   "execution_count": null,
   "id": "f1bd46d8",
   "metadata": {},
   "outputs": [],
   "source": []
  }
 ],
 "metadata": {
  "kernelspec": {
   "display_name": "Python 3",
   "language": "python",
   "name": "python3"
  },
  "language_info": {
   "codemirror_mode": {
    "name": "ipython",
    "version": 3
   },
   "file_extension": ".py",
   "mimetype": "text/x-python",
   "name": "python",
   "nbconvert_exporter": "python",
   "pygments_lexer": "ipython3",
   "version": "3.8.8"
  }
 },
 "nbformat": 4,
 "nbformat_minor": 5
}
