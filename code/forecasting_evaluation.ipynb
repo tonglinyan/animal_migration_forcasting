{
 "cells": [
  {
   "cell_type": "code",
   "execution_count": 16,
   "id": "4228e247",
   "metadata": {},
   "outputs": [],
   "source": [
    "import numpy as np\n",
    "import pandas as pd\n",
    "import matplotlib.pyplot as plt\n",
    "import numpy as np\n",
    "from sklearn.metrics import confusion_matrix\n",
    "from tqdm import tqdm\n",
    "import os"
   ]
  },
  {
   "cell_type": "code",
   "execution_count": 17,
   "id": "3c9598c9",
   "metadata": {},
   "outputs": [],
   "source": [
    "pd.set_option('Display.max_rows',None)#print all the rows\n",
    "pd.set_option('Display.max_columns',None)#print all the columns"
   ]
  },
  {
   "cell_type": "code",
   "execution_count": 18,
   "id": "58b99240",
   "metadata": {},
   "outputs": [],
   "source": [
    "def pred_data():\n",
    "    path = \"../dataset/insect/ant/prediction\" #path of objective folder\n",
    "    files = os.listdir(path) # get all the files in the folder\n",
    "\n",
    "    if ('.DS_Store' in files):\n",
    "        files.remove('.DS_Store')\n",
    "\n",
    "    index = 0\n",
    "\n",
    "    #print(files)\n",
    "    y_pred = []\n",
    "    for file in files: # iterator for traversing all the files\n",
    "        if not os.path.isdir(file): # check if it is a file  \n",
    "            f = open(path+\"/\"+file) # open the file\n",
    "            data = pd.read_csv(f) \n",
    "            #print(data)\n",
    "            if (index == 0):\n",
    "                y_pred = data\n",
    "            else:\n",
    "                y_pred = pd.concat([y_pred, data], axis = 1)\n",
    "            index += 1\n",
    "    \n",
    "    return y_pred, y_pred.columns.values.tolist()"
   ]
  },
  {
   "cell_type": "code",
   "execution_count": 19,
   "id": "b87ed4a2",
   "metadata": {},
   "outputs": [],
   "source": [
    "def matrix_to_1d(data):\n",
    "    n, p = data.shape\n",
    "    return_list = data.iloc[:,0]\n",
    "    for name, columns in data.iteritems():\n",
    "        return_list = pd.concat([return_list, columns], axis = 0)\n",
    "    return_list = return_list.values\n",
    "    return return_list"
   ]
  },
  {
   "cell_type": "code",
   "execution_count": 20,
   "id": "69c48c51",
   "metadata": {},
   "outputs": [],
   "source": [
    "def differentiation(data):\n",
    "    return_matrix = []\n",
    "    for name, columns in data.iteritems():\n",
    "        columns = columns.values\n",
    "        diff = np.diff(columns)\n",
    "        return_matrix.append(diff)\n",
    "    return_matrix = pd.DataFrame(return_matrix)\n",
    "    return_matrix = return_matrix.T\n",
    "    return return_matrix"
   ]
  },
  {
   "cell_type": "code",
   "execution_count": 21,
   "id": "da17f4d4",
   "metadata": {},
   "outputs": [],
   "source": [
    "def accuracy_change(data, pred):\n",
    "    assert len(data) == len(pred)\n",
    "    nb_prediction = 0 #number of times that prediction of an ant going to another chamber is correct\n",
    "    tp_tn = 0 #total number of times an ant goes to another chamber\n",
    "    for j in range (len(pred)):\n",
    "        if (data[j] != 0) or (pred[j] != 0):\n",
    "            nb_prediction += 1\n",
    "            if (data[j] == pred[j]) :\n",
    "                tp_tn += 1\n",
    "    try: \n",
    "        return tp_tn/nb_prediction\n",
    "    except Exception as reason:\n",
    "        print(reason)"
   ]
  },
  {
   "cell_type": "code",
   "execution_count": 22,
   "id": "d5296bff",
   "metadata": {},
   "outputs": [],
   "source": [
    "def recall(data, pred):\n",
    "    assert len(data) == len(pred)\n",
    "    n = 0 #number of times that prediction of an ant going to another chamber is correct\n",
    "    d = 0 #total number of times an ant goes to another chamber\n",
    "    for j in range (len(pred)):\n",
    "        if (data[j] != 0):\n",
    "            n = n + 1\n",
    "            if (pred[j] == data[j]) :\n",
    "                d = d + 1\n",
    "    try: \n",
    "        return d/n\n",
    "    except Exception as reason:\n",
    "        print(reason)"
   ]
  },
  {
   "cell_type": "code",
   "execution_count": 23,
   "id": "b751c44d",
   "metadata": {},
   "outputs": [],
   "source": [
    "def precision(data, pred):\n",
    "    assert len(data) == len(pred)\n",
    "    n = 0 #number of times that prediction of an ant going to another chamber is correct\n",
    "    d = 0 #total number of times an ant goes to another chamber\n",
    "    for j in range (len(pred)):\n",
    "        if (pred[j] != 0):\n",
    "            n = n + 1\n",
    "            if (pred[j] == data[j]) :\n",
    "                d = d + 1\n",
    "    try: \n",
    "        return d/n\n",
    "    except Exception as reason:\n",
    "        print(reason)"
   ]
  },
  {
   "cell_type": "code",
   "execution_count": 24,
   "id": "810d8eb6",
   "metadata": {},
   "outputs": [],
   "source": [
    "def f1_score(precision, recall):\n",
    "    try:\n",
    "        return (2* precision * recall/(precision+recall))\n",
    "    except Exception as reason:\n",
    "        print(reason)"
   ]
  },
  {
   "cell_type": "code",
   "execution_count": 25,
   "id": "4b39cbf3",
   "metadata": {},
   "outputs": [],
   "source": [
    "pred, columns_name = pred_data()\n",
    "pred.to_csv('../dataset/insect/ant/prediction.csv')\n",
    "pred_training = pred[int(len(pred)*0.5):]\n",
    "pred_testing = pred[:int(len(pred)*0.5)]"
   ]
  },
  {
   "cell_type": "code",
   "execution_count": 26,
   "id": "5289e56e",
   "metadata": {},
   "outputs": [],
   "source": [
    "y_pred = matrix_to_1d(pred_testing)"
   ]
  },
  {
   "cell_type": "code",
   "execution_count": 27,
   "id": "7139f507",
   "metadata": {},
   "outputs": [],
   "source": [
    "data = pd.read_csv('../dataset/insect/ant/time_series_chamber.csv')\n",
    "data = data[columns_name]\n",
    "true_training = data[int(len(data)*0.5):]\n",
    "true_testing = data[:int(len(data)*0.5)]"
   ]
  },
  {
   "cell_type": "code",
   "execution_count": 28,
   "id": "0ee4f0d9",
   "metadata": {},
   "outputs": [],
   "source": [
    "y_true = matrix_to_1d(true_testing)"
   ]
  },
  {
   "cell_type": "code",
   "execution_count": 29,
   "id": "651d75a5",
   "metadata": {
    "scrolled": true
   },
   "outputs": [],
   "source": [
    "y_true_diff = differentiation(true_testing)\n",
    "y_pred_diff = differentiation(pred_testing)\n",
    "y_pred_diff.to_csv('../dataset/insect/ant/prediction_diff.csv')\n",
    "y_true_diff.to_csv('../dataset/insect/ant/true_diff.csv')\n",
    "\n",
    "y_true_diff = matrix_to_1d(y_true_diff)\n",
    "y_pred_diff = matrix_to_1d(y_pred_diff)\n",
    "y_pred_diff = y_pred_diff.astype(int)"
   ]
  },
  {
   "cell_type": "code",
   "execution_count": 30,
   "id": "ee6d8367",
   "metadata": {},
   "outputs": [
    {
     "name": "stdout",
     "output_type": "stream",
     "text": [
      "Percentage of time when you correctly predict the chamber.\n",
      "0.9998406862745098\n",
      "-----------\n",
      "Percentage of time when you correctly predict going to another chamber.\n",
      "0.8444444444444444\n",
      "-----------\n",
      "recall: 0.9178743961352657\n",
      "-----------\n",
      "precision: 0.9134615384615384\n",
      "-----------\n",
      "f1-score 0.9156626506024096\n"
     ]
    }
   ],
   "source": [
    "# Accuracy = (TP+TN)/(TP+FP+TN+FN)\n",
    "# Percentage of time when you correctly predict the chamber.\n",
    "from sklearn.metrics import accuracy_score\n",
    "print('Percentage of time when you correctly predict the chamber.')\n",
    "print(accuracy_score(y_true, y_pred))\n",
    "print('-----------')\n",
    "\n",
    "# Percentage of time when you correctly predict going to another chamber.\n",
    "acc_change = accuracy_change(y_true_diff, y_pred_diff)\n",
    "print('Percentage of time when you correctly predict going to another chamber.')\n",
    "print(acc_change)\n",
    "print('-----------')\n",
    "\n",
    "# recall=TP/(TP+FN)\n",
    "recall = recall(y_true_diff, y_pred_diff)\n",
    "print('recall:', recall)\n",
    "print('-----------')\n",
    "\n",
    "# precision=TP/(TP+FP)\n",
    "precision = precision(y_true_diff, y_pred_diff)\n",
    "print('precision:', precision)\n",
    "print('-----------')\n",
    "\n",
    "# f1 = 2*(precision*recall)/(precision+recall)\n",
    "f1 = f1_score(precision, recall)\n",
    "print('f1-score', f1)"
   ]
  },
  {
   "cell_type": "code",
   "execution_count": null,
   "id": "b3c7e0fd",
   "metadata": {},
   "outputs": [],
   "source": []
  }
 ],
 "metadata": {
  "kernelspec": {
   "display_name": "Python 3",
   "language": "python",
   "name": "python3"
  },
  "language_info": {
   "codemirror_mode": {
    "name": "ipython",
    "version": 3
   },
   "file_extension": ".py",
   "mimetype": "text/x-python",
   "name": "python",
   "nbconvert_exporter": "python",
   "pygments_lexer": "ipython3",
   "version": "3.8.8"
  }
 },
 "nbformat": 4,
 "nbformat_minor": 5
}
