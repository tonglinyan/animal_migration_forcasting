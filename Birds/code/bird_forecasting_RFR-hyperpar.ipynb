{
 "cells": [
  {
   "cell_type": "code",
   "execution_count": 2,
   "id": "b3b65255",
   "metadata": {},
   "outputs": [],
   "source": [
    "import pandas as pd\n",
    "from pandas import DataFrame\n",
    "import numpy as np\n",
    "import math\n",
    "from random import random\n",
    "import matplotlib.pyplot as plt\n",
    "import seaborn as sns\n",
    "import operator\n",
    "from functools import reduce\n",
    "from tqdm import tqdm\n",
    "import matplotlib.animation as ani\n",
    "from sklearn.feature_selection import RFE\n",
    "from sklearn.ensemble import RandomForestRegressor\n",
    "from statsmodels.tsa.seasonal import seasonal_decompose\n",
    "from statsmodels.tsa.stattools import adfuller\n",
    "from sklearn.metrics import mean_squared_error\n",
    "from sklearn.metrics import explained_variance_score\n",
    "from sklearn.metrics import r2_score\n",
    "from sklearn.model_selection import GridSearchCV\n",
    "import random\n",
    "random.seed(12345)"
   ]
  },
  {
   "cell_type": "code",
   "execution_count": 3,
   "id": "f702cd9c",
   "metadata": {},
   "outputs": [],
   "source": [
    "np.set_printoptions(formatter={'float': lambda x: \"{0:0.3f}\".format(x)})\n",
    "plt.rcParams[\"font.family\"] = \"Times New Roman\"\n",
    "plt.style.use('seaborn-whitegrid')\n",
    "plt.style.use('seaborn-poster')\n",
    "plt.style.use('seaborn-dark-palette')\n",
    "plt.rcParams[\"mathtext.fontset\"] = \"cm\""
   ]
  },
  {
   "cell_type": "code",
   "execution_count": 4,
   "id": "49881731",
   "metadata": {},
   "outputs": [],
   "source": [
    "def accuracy_plot(true, pred):\n",
    "    plt.scatter(true, pred, s = 10, c = -true, cmap='viridis')  \n",
    "    plt.ylabel('predicted migration intensity(birds km-3)')\n",
    "    plt.xlabel('actual migration intensity(birds km-3)')\n",
    "    x = np.arange(0, int(max(true)))\n",
    "    plt.fill_between(x, x*0.9, x*1.1, alpha = 0.3, where=None, interpolate=False, step=None, data=None)\n",
    "    plt.show()"
   ]
  },
  {
   "cell_type": "code",
   "execution_count": 5,
   "id": "833ee7f8",
   "metadata": {},
   "outputs": [],
   "source": [
    "def hyperparameter_tuning(df_forecasting, coef, radar):\n",
    "    \n",
    "    #print(df_forecasting)\n",
    "    X = df_forecasting.iloc[:,1:]\n",
    "    y = df_forecasting.iloc[:,0]\n",
    "    x_train, x_valid = X[:int(coef * (len(X)/30))*30], X[int(coef * (len(X)/30))*30:]\n",
    "    y_train, y_valid = y[:int(coef * (len(y)/30))*30], y[int(coef * (len(y)/30))*30:]\n",
    "    \n",
    "    #param_test1 = {'n_estimators':[10, 50, 100, 150, 200]}\n",
    "    #model = RandomForestRegressor()\n",
    "    \n",
    "    param_grid = [{'n_estimators': range(30, 151, 10), 'random_state':[100]}]\n",
    "                  #{'bootstrap': [False], 'n_estimators': [3, 10], 'max_features': [2, 3, 4]},]\n",
    "\n",
    "    forest_reg = RandomForestRegressor(n_jobs = -1)\n",
    "    grid_search = GridSearchCV(forest_reg, param_grid, cv=5, scoring='neg_mean_squared_error')\n",
    " \n",
    "    grid_search.fit(x_train, y_train)\n",
    "    print(grid_search.best_params_)\n",
    "    \n",
    "    pred = grid_search.best_estimator_.predict(x_valid)\n",
    "    pred = pd.Series(pred, index = y_valid.index)\n",
    "    \n",
    "    return pred, grid_search.best_params_\n",
    "\n",
    "def drop_altitude(data):\n",
    "    df = []\n",
    "    for i in tqdm(np.arange(0, len(data), 30)):\n",
    "        df.append(data[i:i+30].sum())\n",
    "    return df\n"
   ]
  },
  {
   "cell_type": "code",
   "execution_count": 17,
   "id": "04a0c052",
   "metadata": {},
   "outputs": [],
   "source": [
    "def hyperparameter_tuning1(df_forecasting, coef, radar, n_estimators, max_depth):\n",
    "    \n",
    "    #print(df_forecasting)\n",
    "    X = df_forecasting.iloc[:,1:]\n",
    "    y = df_forecasting.iloc[:,0]\n",
    "    x_train, x_valid = X[:int(coef * (len(X)/30))*30], X[int(coef * (len(X)/30))*30:]\n",
    "    y_train, y_valid = y[:int(coef * (len(y)/30))*30], y[int(coef * (len(y)/30))*30:]\n",
    "    \n",
    "    #param_test1 = {'n_estimators':[10, 50, 100, 150, 200]}\n",
    "    #model = RandomForestRegressor()\n",
    "    \n",
    "    param_grid = [{'n_estimators': n_estimators, 'max_depth':max_depth, 'random_state':[100]}]\n",
    "                  #{'bootstrap': [False], 'n_estimators': [3, 10], 'max_features': [2, 3, 4]},]\n",
    "\n",
    "    forest_reg = RandomForestRegressor(n_jobs = -1)\n",
    "    grid_search = GridSearchCV(forest_reg, param_grid, cv=5, scoring='neg_mean_squared_error')\n",
    " \n",
    "    grid_search.fit(x_train, y_train)\n",
    "    print(grid_search.best_params_)\n",
    "    \n",
    "    pred = grid_search.best_estimator_.predict(x_valid)\n",
    "    pred = pd.Series(pred, index = y_valid.index)\n",
    "    \n",
    "    return pred, grid_search.best_params_"
   ]
  },
  {
   "cell_type": "markdown",
   "id": "21d3c358",
   "metadata": {},
   "source": [
    "# weather with altitude and mean"
   ]
  },
  {
   "cell_type": "markdown",
   "id": "0f6a8915",
   "metadata": {},
   "source": [
    "## n_estimators"
   ]
  },
  {
   "cell_type": "code",
   "execution_count": 31,
   "id": "2181f63c",
   "metadata": {},
   "outputs": [
    {
     "name": "stdout",
     "output_type": "stream",
     "text": [
      "['KABR' 'KABX' 'KAKQ' 'KAMA' 'KAMX' 'KAPX' 'KARX' 'KATX' 'KBBX' 'KBGM'\n",
      " 'KBHX' 'KBIS' 'KBLX' 'KBMX' 'KBOX' 'KBRO' 'KBUF' 'KBYX' 'KCAE' 'KCBW'\n",
      " 'KCBX' 'KCCX' 'KCLE' 'KCLX' 'KCRP' 'KCXX' 'KCYS' 'KDAX' 'KDDC' 'KDFX'\n",
      " 'KDGX' 'KDIX' 'KDLH' 'KDMX' 'KDOX' 'KDTX' 'KDVN' 'KDYX' 'KEAX' 'KEMX'\n",
      " 'KENX' 'KEPZ' 'KESX' 'KEVX' 'KEWX' 'KEYX' 'KFCX' 'KFDR' 'KFDX' 'KFFC'\n",
      " 'KFSD' 'KFSX' 'KFTG' 'KFWS' 'KGGW' 'KGJX' 'KGLD' 'KGRB' 'KGRK' 'KGRR'\n",
      " 'KGSP' 'KGWX' 'KGYX' 'KHDX' 'KHGX' 'KHNX' 'KHTX' 'KICT' 'KICX' 'KILN'\n",
      " 'KILX' 'KIND' 'KINX' 'KIWA' 'KIWX' 'KJAX' 'KJGX' 'KJKL' 'KLBB' 'KLCH'\n",
      " 'KLIX' 'KLNX' 'KLOT' 'KLRX' 'KLSX' 'KLTX' 'KLVX' 'KLWX' 'KLZK' 'KMAF'\n",
      " 'KMAX' 'KMHX' 'KMKX' 'KMLB' 'KMOB' 'KMPX' 'KMQT' 'KMRX' 'KMSX' 'KMTX'\n",
      " 'KMUX' 'KMVX' 'KNKX' 'KNQA' 'KOAX' 'KOHX' 'KOKX' 'KOTX' 'KPAH' 'KPBZ'\n",
      " 'KPDT' 'KPUX' 'KRAX' 'KRGX' 'KRIW' 'KRLX' 'KRTX' 'KSFX' 'KSGF' 'KSHV'\n",
      " 'KSJT' 'KSOX' 'KSRX' 'KTBW' 'KTFX' 'KTLH' 'KTLX' 'KTWX' 'KTYX' 'KUDX'\n",
      " 'KUEX' 'KVNX' 'KVTX' 'KVWX' 'KYUX']\n"
     ]
    }
   ],
   "source": [
    "radars = pd.read_csv('../dataset/radar.csv').values.reshape(1, -1)\n",
    "radars = radars[0]\n",
    "print(radars)"
   ]
  },
  {
   "cell_type": "code",
   "execution_count": null,
   "id": "556b1339",
   "metadata": {
    "scrolled": true
   },
   "outputs": [
    {
     "name": "stderr",
     "output_type": "stream",
     "text": [
      "  0%|          | 0/135 [00:00<?, ?it/s]\n",
      "100%|██████████| 455/455 [00:00<00:00, 7775.62it/s]\n",
      "\n",
      "100%|██████████| 910/910 [00:00<00:00, 214620.82it/s]\n",
      "  1%|          | 1/135 [04:43<10:32:44, 283.32s/it]"
     ]
    },
    {
     "name": "stdout",
     "output_type": "stream",
     "text": [
      "{'n_estimators': 30, 'random_state': 100}\n",
      "3 0.42650765773949595 441756767.03292763 0.42347545931953545\n"
     ]
    },
    {
     "name": "stderr",
     "output_type": "stream",
     "text": [
      "\n",
      "100%|██████████| 455/455 [00:00<00:00, 9665.62it/s]\n",
      "\n",
      "100%|██████████| 910/910 [00:00<00:00, 199686.96it/s]\n",
      "  1%|▏         | 2/135 [09:51<11:01:05, 298.23s/it]"
     ]
    },
    {
     "name": "stdout",
     "output_type": "stream",
     "text": [
      "{'n_estimators': 50, 'random_state': 100}\n",
      "3 0.5486403669561486 126356754.68635319 0.5485417103542828\n"
     ]
    },
    {
     "name": "stderr",
     "output_type": "stream",
     "text": [
      "\n",
      "100%|██████████| 455/455 [00:00<00:00, 7243.86it/s]\n",
      "\n",
      "100%|██████████| 910/910 [00:00<00:00, 120131.46it/s]"
     ]
    },
    {
     "name": "stdout",
     "output_type": "stream",
     "text": [
      "{'n_estimators': 90, 'random_state': 100}\n",
      "3 0.5905917940255563 1319145283.2864063 0.5904229690681113\n"
     ]
    },
    {
     "name": "stderr",
     "output_type": "stream",
     "text": [
      "\n",
      "  2%|▏         | 3/135 [14:55<11:01:22, 300.63s/it]\n",
      "100%|██████████| 455/455 [00:00<00:00, 9211.31it/s]\n",
      "\n",
      "100%|██████████| 910/910 [00:00<00:00, 144379.51it/s]"
     ]
    },
    {
     "name": "stdout",
     "output_type": "stream",
     "text": [
      "{'n_estimators': 100, 'random_state': 100}\n",
      "3 0.467604555117037 247008796.33681613 0.4603653297918737\n"
     ]
    },
    {
     "name": "stderr",
     "output_type": "stream",
     "text": [
      "\n",
      "  3%|▎         | 4/135 [20:09<11:07:31, 305.73s/it]\n",
      "100%|██████████| 455/455 [00:00<00:00, 8633.57it/s]\n",
      "\n",
      "100%|██████████| 910/910 [00:00<00:00, 190336.44it/s]\n",
      "  4%|▎         | 5/135 [24:35<10:31:36, 291.51s/it]"
     ]
    },
    {
     "name": "stdout",
     "output_type": "stream",
     "text": [
      "{'n_estimators': 50, 'random_state': 100}\n",
      "3 -0.8794702512757382 526698282.85636026 -0.8827318715548562\n"
     ]
    },
    {
     "name": "stderr",
     "output_type": "stream",
     "text": [
      "\n",
      "100%|██████████| 455/455 [00:00<00:00, 7910.30it/s]\n",
      "\n",
      "100%|██████████| 910/910 [00:00<00:00, 139254.14it/s]\n",
      "  4%|▍         | 6/135 [29:10<10:14:35, 285.86s/it]"
     ]
    },
    {
     "name": "stdout",
     "output_type": "stream",
     "text": [
      "{'n_estimators': 40, 'random_state': 100}\n",
      "3 0.5737514502314829 805864402.5376662 0.5718825514464303\n"
     ]
    },
    {
     "name": "stderr",
     "output_type": "stream",
     "text": [
      "\n",
      "100%|██████████| 455/455 [00:00<00:00, 8274.98it/s]\n",
      "\n",
      "100%|██████████| 910/910 [00:00<00:00, 203032.96it/s]\n",
      "  5%|▌         | 7/135 [33:24<9:47:53, 275.57s/it] "
     ]
    },
    {
     "name": "stdout",
     "output_type": "stream",
     "text": [
      "{'n_estimators': 100, 'random_state': 100}\n",
      "3 0.6455881960389958 1697775984.3959892 0.6452881018004137\n"
     ]
    },
    {
     "name": "stderr",
     "output_type": "stream",
     "text": [
      "\n",
      "100%|██████████| 455/455 [00:00<00:00, 9271.54it/s]\n",
      "\n",
      "100%|██████████| 910/910 [00:00<00:00, 191060.55it/s]\n",
      "  6%|▌         | 8/135 [37:07<9:07:36, 258.71s/it]"
     ]
    },
    {
     "name": "stdout",
     "output_type": "stream",
     "text": [
      "{'n_estimators': 90, 'random_state': 100}\n",
      "3 0.6325339277657254 527492640.8615583 0.6276158071441942\n"
     ]
    },
    {
     "name": "stderr",
     "output_type": "stream",
     "text": [
      "\n",
      "100%|██████████| 455/455 [00:00<00:00, 9484.71it/s]\n",
      "\n",
      "100%|██████████| 910/910 [00:00<00:00, 182195.65it/s]\n",
      "  7%|▋         | 9/135 [40:34<8:29:25, 242.58s/it]"
     ]
    },
    {
     "name": "stdout",
     "output_type": "stream",
     "text": [
      "{'n_estimators': 90, 'random_state': 100}\n",
      "3 0.7530712081431821 545113157.3321265 0.7518483180109174\n"
     ]
    },
    {
     "name": "stderr",
     "output_type": "stream",
     "text": [
      "\n",
      "100%|██████████| 455/455 [00:00<00:00, 9227.52it/s]\n",
      "\n",
      "100%|██████████| 910/910 [00:00<00:00, 215700.29it/s]\n",
      "  7%|▋         | 10/135 [44:46<8:31:14, 245.40s/it]"
     ]
    },
    {
     "name": "stdout",
     "output_type": "stream",
     "text": [
      "{'n_estimators': 80, 'random_state': 100}\n",
      "3 0.6401454938832194 548029361.2041845 0.6298428338091693\n"
     ]
    },
    {
     "name": "stderr",
     "output_type": "stream",
     "text": [
      "\n",
      "100%|██████████| 455/455 [00:00<00:00, 9064.61it/s]\n",
      "\n",
      "100%|██████████| 910/910 [00:00<00:00, 216201.24it/s]\n",
      "  8%|▊         | 11/135 [49:05<8:35:57, 249.65s/it]"
     ]
    },
    {
     "name": "stdout",
     "output_type": "stream",
     "text": [
      "{'n_estimators': 100, 'random_state': 100}\n",
      "3 0.7462951795301018 207414373.6274604 0.7438869798687758\n"
     ]
    },
    {
     "name": "stderr",
     "output_type": "stream",
     "text": [
      "\n",
      "100%|██████████| 455/455 [00:00<00:00, 8769.57it/s]\n",
      "\n",
      "100%|██████████| 910/910 [00:00<00:00, 193276.11it/s]\n",
      "  9%|▉         | 12/135 [53:48<8:52:48, 259.91s/it]"
     ]
    },
    {
     "name": "stdout",
     "output_type": "stream",
     "text": [
      "{'n_estimators': 100, 'random_state': 100}\n",
      "3 0.6664042411448591 334766221.0842351 0.6599712344319206\n"
     ]
    },
    {
     "name": "stderr",
     "output_type": "stream",
     "text": [
      "\n",
      "100%|██████████| 455/455 [00:00<00:00, 8960.21it/s]\n",
      "\n",
      "100%|██████████| 910/910 [00:00<00:00, 244088.80it/s]\n",
      " 10%|▉         | 13/135 [58:13<8:51:13, 261.26s/it]"
     ]
    },
    {
     "name": "stdout",
     "output_type": "stream",
     "text": [
      "{'n_estimators': 90, 'random_state': 100}\n",
      "3 0.18037838342546242 631610363.7446053 0.1748493240913206\n"
     ]
    },
    {
     "name": "stderr",
     "output_type": "stream",
     "text": [
      "\n",
      "100%|██████████| 455/455 [00:00<00:00, 9387.62it/s]\n",
      "\n",
      "100%|██████████| 910/910 [00:00<00:00, 224809.56it/s]\n",
      " 10%|█         | 14/135 [1:01:57<8:24:24, 250.12s/it]"
     ]
    },
    {
     "name": "stdout",
     "output_type": "stream",
     "text": [
      "{'n_estimators': 80, 'random_state': 100}\n",
      "3 0.5964653656562195 1397401481.3364596 0.5961768953074932\n"
     ]
    },
    {
     "name": "stderr",
     "output_type": "stream",
     "text": [
      "\n",
      "100%|██████████| 455/455 [00:00<00:00, 8838.91it/s]\n",
      "\n",
      "100%|██████████| 910/910 [00:00<00:00, 226934.81it/s]\n",
      " 11%|█         | 15/135 [1:06:36<8:37:41, 258.84s/it]"
     ]
    },
    {
     "name": "stdout",
     "output_type": "stream",
     "text": [
      "{'n_estimators': 90, 'random_state': 100}\n",
      "3 0.49263826754544915 911783870.0483294 0.48948832780166696\n"
     ]
    },
    {
     "name": "stderr",
     "output_type": "stream",
     "text": [
      "\n",
      "100%|██████████| 455/455 [00:00<00:00, 8760.44it/s]\n",
      "\n",
      "100%|██████████| 910/910 [00:00<00:00, 230136.67it/s]\n",
      " 12%|█▏        | 16/135 [1:10:15<8:09:52, 246.99s/it]"
     ]
    },
    {
     "name": "stdout",
     "output_type": "stream",
     "text": [
      "{'n_estimators': 30, 'random_state': 100}\n",
      "3 0.6587368548541839 490373951.1506026 0.6559414087400888\n"
     ]
    },
    {
     "name": "stderr",
     "output_type": "stream",
     "text": [
      "\n",
      "100%|██████████| 455/455 [00:00<00:00, 8831.18it/s]\n",
      "\n",
      "100%|██████████| 910/910 [00:00<00:00, 209152.10it/s]\n",
      " 13%|█▎        | 17/135 [1:14:30<8:10:05, 249.20s/it]"
     ]
    },
    {
     "name": "stdout",
     "output_type": "stream",
     "text": [
      "{'n_estimators': 100, 'random_state': 100}\n",
      "3 0.5899345258554558 933787016.5811658 0.5883018289664594\n"
     ]
    },
    {
     "name": "stderr",
     "output_type": "stream",
     "text": [
      "\n",
      "100%|██████████| 455/455 [00:00<00:00, 9704.59it/s]\n",
      "\n",
      "100%|██████████| 910/910 [00:00<00:00, 187254.90it/s]\n",
      " 13%|█▎        | 18/135 [1:18:39<8:06:05, 249.28s/it]"
     ]
    },
    {
     "name": "stdout",
     "output_type": "stream",
     "text": [
      "{'n_estimators': 50, 'random_state': 100}\n",
      "3 -0.09166954695792517 76968964.35690773 -0.09344979603126502\n"
     ]
    },
    {
     "name": "stderr",
     "output_type": "stream",
     "text": [
      "\n",
      "100%|██████████| 455/455 [00:00<00:00, 9139.84it/s]\n",
      "\n",
      "100%|██████████| 910/910 [00:00<00:00, 179176.45it/s]\n",
      " 14%|█▍        | 19/135 [1:22:55<8:05:27, 251.10s/it]"
     ]
    },
    {
     "name": "stdout",
     "output_type": "stream",
     "text": [
      "{'n_estimators': 100, 'random_state': 100}\n",
      "3 0.7864312747992677 724295871.3244724 0.7802279333124462\n"
     ]
    },
    {
     "name": "stderr",
     "output_type": "stream",
     "text": [
      "\n",
      "100%|██████████| 455/455 [00:00<00:00, 9146.28it/s]\n",
      "\n",
      "100%|██████████| 910/910 [00:00<00:00, 235402.53it/s]\n",
      " 15%|█▍        | 20/135 [1:27:13<8:05:35, 253.35s/it]"
     ]
    },
    {
     "name": "stdout",
     "output_type": "stream",
     "text": [
      "{'n_estimators': 100, 'random_state': 100}\n",
      "3 0.34402990162799896 1934524413.7460332 0.3415726241184739\n"
     ]
    },
    {
     "name": "stderr",
     "output_type": "stream",
     "text": [
      "\n",
      "100%|██████████| 455/455 [00:00<00:00, 9868.54it/s]\n",
      "\n",
      "100%|██████████| 910/910 [00:00<00:00, 225860.50it/s]\n",
      " 16%|█▌        | 21/135 [1:31:17<7:55:45, 250.40s/it]"
     ]
    },
    {
     "name": "stdout",
     "output_type": "stream",
     "text": [
      "{'n_estimators': 60, 'random_state': 100}\n",
      "3 0.6317973294378293 141950822.78354567 0.6294583730311982\n"
     ]
    },
    {
     "name": "stderr",
     "output_type": "stream",
     "text": [
      "\n",
      "100%|██████████| 455/455 [00:00<00:00, 9593.03it/s]\n",
      "\n",
      "100%|██████████| 910/910 [00:00<00:00, 224136.28it/s]\n",
      " 16%|█▋        | 22/135 [1:35:22<7:48:29, 248.76s/it]"
     ]
    },
    {
     "name": "stdout",
     "output_type": "stream",
     "text": [
      "{'n_estimators': 30, 'random_state': 100}\n",
      "3 0.7065253612385956 637683004.37263 0.686353262192235\n"
     ]
    },
    {
     "name": "stderr",
     "output_type": "stream",
     "text": [
      "\n",
      "100%|██████████| 455/455 [00:00<00:00, 9547.58it/s]\n",
      "\n",
      "100%|██████████| 910/910 [00:00<00:00, 227557.18it/s]\n",
      " 17%|█▋        | 23/135 [1:39:07<7:30:59, 241.60s/it]"
     ]
    },
    {
     "name": "stdout",
     "output_type": "stream",
     "text": [
      "{'n_estimators': 30, 'random_state': 100}\n",
      "3 0.7293940196015289 960377346.7510754 0.7293020107174987\n"
     ]
    },
    {
     "name": "stderr",
     "output_type": "stream",
     "text": [
      "\n",
      "100%|██████████| 455/455 [00:00<00:00, 6316.64it/s]\n",
      "\n",
      "100%|██████████| 910/910 [00:00<00:00, 132985.49it/s]"
     ]
    },
    {
     "name": "stdout",
     "output_type": "stream",
     "text": [
      "{'n_estimators': 60, 'random_state': 100}\n",
      "3"
     ]
    },
    {
     "name": "stderr",
     "output_type": "stream",
     "text": [
      "\n",
      " 18%|█▊        | 24/135 [1:43:49<7:49:21, 253.71s/it]\n",
      "100%|██████████| 455/455 [00:00<00:00, 10024.68it/s]\n",
      "\n",
      "100%|██████████| 910/910 [00:00<00:00, 222282.72it/s]\n",
      " 19%|█▊        | 25/135 [1:47:59<7:43:31, 252.83s/it]"
     ]
    },
    {
     "name": "stdout",
     "output_type": "stream",
     "text": [
      " 0.79273208135504 533677438.18989 0.7886006503378536\n",
      "{'n_estimators': 60, 'random_state': 100}\n",
      "3 0.4316064447383289 796667007.7486355 0.4220989830471702\n"
     ]
    },
    {
     "name": "stderr",
     "output_type": "stream",
     "text": [
      "\n",
      "100%|██████████| 455/455 [00:00<00:00, 8705.85it/s]\n",
      "\n",
      "100%|██████████| 910/910 [00:00<00:00, 222373.38it/s]\n",
      " 19%|█▉        | 26/135 [1:52:13<7:39:34, 252.97s/it]"
     ]
    },
    {
     "name": "stdout",
     "output_type": "stream",
     "text": [
      "{'n_estimators': 30, 'random_state': 100}\n",
      "3 0.5864421337637824 809931740.9270011 0.5856290892340146\n"
     ]
    },
    {
     "name": "stderr",
     "output_type": "stream",
     "text": [
      "\n",
      "100%|██████████| 455/455 [00:00<00:00, 8109.91it/s]\n",
      "\n",
      "100%|██████████| 910/910 [00:00<00:00, 170851.24it/s]\n",
      " 20%|██        | 27/135 [1:56:47<7:46:43, 259.30s/it]"
     ]
    },
    {
     "name": "stdout",
     "output_type": "stream",
     "text": [
      "{'n_estimators': 100, 'random_state': 100}\n",
      "3 0.6765193714677382 194364730.24691176 0.6662824129681655\n"
     ]
    }
   ],
   "source": [
    "coef = 0.5\n",
    "order_lags = 3\n",
    "#result = pd.DataFrame(columns=('radar', 'mse', 'r2', 'explained_variance', 'n_estimators'))\n",
    "result = pd.read_csv('../dataset/result_mean_estimator1.csv')\n",
    "for radar in tqdm(radars):\n",
    "    df_forecasting = pd.read_csv('../dataset/regressor_mean1/regressor_mean%i_%s.csv'%(order_lags, radar))\n",
    "    pred, par = hyperparameter_tuning(df_forecasting, coef, radar)\n",
    "    pred = drop_altitude(pred)\n",
    "    true = drop_altitude(df_forecasting['linear_eta'].values)\n",
    "    test_y = true[(len(true)-len(pred)):]\n",
    "    train_y = true[:(len(true)-len(pred))]\n",
    "    #rfm.line_plot1(ts_1 = test_y, ts_label_1 = rfm.radar, ts_2 = pred_y, ts_label_2 = '%s - Forecasting'%rfm.radar, title = '%s forecasting (testing data)'%rfm.radar, m = 'weather_lags5')\n",
    "    #rfm.line_plot2(ts_1 = test_y, ts_label_1 = '%s observed'%rfm.radar, ts_2 = pred_y, ts_label_2 = '%s - Forecasting'%rfm.radar, ts_3 = train_y, ts_label_3 = '%s training'%rfm.radar, title = '%s forecasting(training + testing)'%rfm.radar, m = 'weather_lags%i'%j)\n",
    "    var = explained_variance_score(test_y, pred)\n",
    "    mse = mean_squared_error(test_y, pred)\n",
    "    r2 = r2_score(test_y, pred)\n",
    "    print(order_lags, var, mse, r2)\n",
    "    result = result.append(pd.DataFrame({'radar':[radar],\n",
    "                                         'mse':[np.round(mse, 3)],\n",
    "                                         'r2':[np.round(r2, 3)],\n",
    "                                         'explained_variance':[np.round(var, 3)],\n",
    "                                         'n_estimators':[par['n_estimators']]}),\n",
    "                           ignore_index = True)\n",
    "    result.to_csv('../dataset/result_mean_estimator1.csv', index = False)\n",
    "    pd.DataFrame(pred).to_csv('../dataset/pred_mean1/pred_mean_%i_opt_%s.csv'%(order_lags, radar), index = False)"
   ]
  },
  {
   "cell_type": "markdown",
   "id": "77ac3329",
   "metadata": {},
   "source": [
    "## max_depth"
   ]
  },
  {
   "cell_type": "code",
   "execution_count": null,
   "id": "155d5b8c",
   "metadata": {},
   "outputs": [],
   "source": [
    "order_lags = 3\n",
    "#result = pd.DataFrame(columns=('radar', 'mse', 'r2', 'explained_variance', 'n_estimators'))\n",
    "n_estimators = pd.read_csv('../dataset/result_mean_estimator.csv')\n",
    "result = pd.DataFrame(columns=('radar', 'mse', 'r2', 'explained_variance', 'n_estimators', 'max_depth'))\n",
    "for radar in tqdm(radars):\n",
    "    df_forecasting = pd.read_csv('../dataset/regressor_mean/regressor_mean%i_%s.csv'%(order_lags, radar))\n",
    "    n_esti = n_estimators[n_estimators['radar']==radar][['n_estimators']].values[0]\n",
    "    #print(n_esti)\n",
    "    pred, par = hyperparameter_tuning1(df_forecasting, coef, radar, n_esti, range(8, 16))\n",
    "    pred = drop_altitude(pred)\n",
    "    true = drop_altitude(df_forecasting['linear_eta'].values)\n",
    "    test_y = true[(len(true)-len(pred)):]\n",
    "    train_y = true[:(len(true)-len(pred))]\n",
    "    #rfm.line_plot1(ts_1 = test_y, ts_label_1 = rfm.radar, ts_2 = pred_y, ts_label_2 = '%s - Forecasting'%rfm.radar, title = '%s forecasting (testing data)'%rfm.radar, m = 'weather_lags5')\n",
    "    #rfm.line_plot2(ts_1 = test_y, ts_label_1 = '%s observed'%rfm.radar, ts_2 = pred_y, ts_label_2 = '%s - Forecasting'%rfm.radar, ts_3 = train_y, ts_label_3 = '%s training'%rfm.radar, title = '%s forecasting(training + testing)'%rfm.radar, m = 'weather_lags%i'%j)\n",
    "    var = explained_variance_score(test_y, pred)\n",
    "    mse = mean_squared_error(test_y, pred)\n",
    "    r2 = r2_score(test_y, pred)\n",
    "    print(order_lags, var, mse, r2)\n",
    "    result = result.append(pd.DataFrame({'radar':[radar],\n",
    "                                         'mse':[np.round(mse, 3)],\n",
    "                                         'r2':[np.round(r2, 3)],\n",
    "                                         'explained_variance':[np.round(var, 3)],\n",
    "                                         'n_estimators':n_esti, \n",
    "                                         'max_depth':[par['max_depth']]}),\n",
    "                           ignore_index = True)\n",
    "    result.to_csv('../dataset/result_mean_depth.csv', index = False)\n",
    "    pd.DataFrame(pred).to_csv('../dataset/pred_mean/pred_mean_%i_opt_%s.csv'%(order_lags, radar), index = False)"
   ]
  },
  {
   "cell_type": "markdown",
   "id": "9b3eda60",
   "metadata": {},
   "source": [
    "# Configuration"
   ]
  },
  {
   "cell_type": "code",
   "execution_count": 22,
   "id": "d2cc8b4f",
   "metadata": {},
   "outputs": [],
   "source": [
    "# Generate the configuration file with best performance parameters\n",
    "import json\n",
    "def WriteJson(JsonFile, data, radars):\n",
    "    with open(JsonFile,'w',encoding = 'GBK') as f1:\n",
    "        str1 = {'lags':str(3), 'random_state':str(100)}\n",
    "        f1.writelines(json.dumps(str1, ensure_ascii=False)+'\\n')\n",
    "        for i in range(len(data)):\n",
    "            str1 ={'radar':data.iloc[i,0], 'n_estimators':str(data.iloc[i,4])}\n",
    "                   #'max_depth':str(data.loc(radar, 'max_depth'))}\n",
    "            f1.writelines(json.dumps(str1, ensure_ascii=False)+'\\n')\n"
   ]
  },
  {
   "cell_type": "code",
   "execution_count": 23,
   "id": "2af7e804",
   "metadata": {},
   "outputs": [],
   "source": [
    "radars = pd.read_csv('../dataset/radar.csv').values.reshape(1, -1)\n",
    "radars = radars[0]\n",
    "result = pd.read_csv('../dataset/result_mean_estimator.csv')\n",
    "WriteJson('config.json', result, radars)"
   ]
  },
  {
   "cell_type": "code",
   "execution_count": null,
   "id": "fe2f0071",
   "metadata": {},
   "outputs": [],
   "source": []
  }
 ],
 "metadata": {
  "kernelspec": {
   "display_name": "Python 3",
   "language": "python",
   "name": "python3"
  },
  "language_info": {
   "codemirror_mode": {
    "name": "ipython",
    "version": 3
   },
   "file_extension": ".py",
   "mimetype": "text/x-python",
   "name": "python",
   "nbconvert_exporter": "python",
   "pygments_lexer": "ipython3",
   "version": "3.8.8"
  }
 },
 "nbformat": 4,
 "nbformat_minor": 5
}
