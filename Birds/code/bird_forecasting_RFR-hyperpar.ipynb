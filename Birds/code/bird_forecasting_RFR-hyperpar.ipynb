{
 "cells": [
  {
   "cell_type": "code",
   "execution_count": 2,
   "id": "b3b65255",
   "metadata": {},
   "outputs": [],
   "source": [
    "import pandas as pd\n",
    "from pandas import DataFrame\n",
    "import numpy as np\n",
    "import math\n",
    "from random import random\n",
    "import matplotlib.pyplot as plt\n",
    "import seaborn as sns\n",
    "import operator\n",
    "from functools import reduce\n",
    "from tqdm import tqdm\n",
    "import matplotlib.animation as ani\n",
    "from sklearn.feature_selection import RFE\n",
    "from sklearn.ensemble import RandomForestRegressor\n",
    "from statsmodels.tsa.seasonal import seasonal_decompose\n",
    "from statsmodels.tsa.stattools import adfuller\n",
    "from sklearn.metrics import mean_squared_error\n",
    "from sklearn.metrics import explained_variance_score\n",
    "from sklearn.metrics import r2_score\n",
    "from sklearn.model_selection import GridSearchCV\n",
    "import random\n",
    "random.seed(12345)"
   ]
  },
  {
   "cell_type": "code",
   "execution_count": 3,
   "id": "f702cd9c",
   "metadata": {},
   "outputs": [],
   "source": [
    "np.set_printoptions(formatter={'float': lambda x: \"{0:0.3f}\".format(x)})\n",
    "plt.rcParams[\"font.family\"] = \"Times New Roman\"\n",
    "plt.style.use('seaborn-whitegrid')\n",
    "plt.style.use('seaborn-poster')\n",
    "plt.style.use('seaborn-dark-palette')\n",
    "plt.rcParams[\"mathtext.fontset\"] = \"cm\""
   ]
  },
  {
   "cell_type": "code",
   "execution_count": 4,
   "id": "49881731",
   "metadata": {},
   "outputs": [],
   "source": [
    "def accuracy_plot(true, pred):\n",
    "    plt.scatter(true, pred, s = 10, c = -true, cmap='viridis')  \n",
    "    plt.ylabel('predicted migration intensity(birds km-3)')\n",
    "    plt.xlabel('actual migration intensity(birds km-3)')\n",
    "    x = np.arange(0, int(max(true)))\n",
    "    plt.fill_between(x, x*0.9, x*1.1, alpha = 0.3, where=None, interpolate=False, step=None, data=None)\n",
    "    plt.show()"
   ]
  },
  {
   "cell_type": "code",
   "execution_count": 5,
   "id": "833ee7f8",
   "metadata": {},
   "outputs": [],
   "source": [
    "def hyperparameter_tuning(df_forecasting, coef, radar):\n",
    "    \n",
    "    #print(df_forecasting)\n",
    "    X = df_forecasting.iloc[:,1:]\n",
    "    y = df_forecasting.iloc[:,0]\n",
    "    x_train, x_valid = X[:int(coef * (len(X)/30))*30], X[int(coef * (len(X)/30))*30:]\n",
    "    y_train, y_valid = y[:int(coef * (len(y)/30))*30], y[int(coef * (len(y)/30))*30:]\n",
    "    \n",
    "    #param_test1 = {'n_estimators':[10, 50, 100, 150, 200]}\n",
    "    #model = RandomForestRegressor()\n",
    "    \n",
    "    param_grid = [{'n_estimators': range(30, 101, 10), 'random_state':[100]}]\n",
    "                  #{'bootstrap': [False], 'n_estimators': [3, 10], 'max_features': [2, 3, 4]},]\n",
    "\n",
    "    forest_reg = RandomForestRegressor(n_jobs = -1)\n",
    "    grid_search = GridSearchCV(forest_reg, param_grid, cv=5, scoring='neg_mean_squared_error')\n",
    " \n",
    "    grid_search.fit(x_train, y_train)\n",
    "    print(grid_search.best_params_)\n",
    "    \n",
    "    pred = grid_search.best_estimator_.predict(x_valid)\n",
    "    pred = pd.Series(pred, index = y_valid.index)\n",
    "    \n",
    "    return pred, grid_search.best_params_\n",
    "\n",
    "def drop_altitude(data):\n",
    "    df = []\n",
    "    for i in tqdm(np.arange(0, len(data), 30)):\n",
    "        df.append(data[i:i+30].sum())\n",
    "    return df\n"
   ]
  },
  {
   "cell_type": "markdown",
   "id": "21d3c358",
   "metadata": {},
   "source": [
    "### weather with altitude and mean"
   ]
  },
  {
   "cell_type": "code",
   "execution_count": 10,
   "id": "2181f63c",
   "metadata": {},
   "outputs": [
    {
     "name": "stdout",
     "output_type": "stream",
     "text": [
      "['KABR' 'KABX' 'KAKQ' 'KAMA' 'KAMX' 'KAPX' 'KARX' 'KATX' 'KBBX' 'KBGM'\n",
      " 'KBHX' 'KBIS' 'KBLX' 'KBMX' 'KBOX' 'KBRO' 'KBUF' 'KBYX' 'KCAE' 'KCBW'\n",
      " 'KCBX' 'KCCX' 'KCLE' 'KCLX' 'KCRP' 'KCXX' 'KCYS' 'KDAX' 'KDDC' 'KDFX'\n",
      " 'KDGX' 'KDIX' 'KDLH' 'KDMX' 'KDOX' 'KDTX' 'KDVN' 'KDYX' 'KEAX' 'KEMX'\n",
      " 'KENX' 'KEPZ' 'KESX' 'KEVX' 'KEWX' 'KEYX' 'KFCX' 'KFDR' 'KFDX' 'KFFC'\n",
      " 'KFSD' 'KFSX' 'KFTG' 'KFWS' 'KGGW' 'KGJX' 'KGLD' 'KGRB' 'KGRK' 'KGRR'\n",
      " 'KGSP' 'KGWX' 'KGYX' 'KHDX' 'KHGX' 'KHNX' 'KHTX' 'KICT' 'KICX' 'KILN'\n",
      " 'KILX' 'KIND' 'KINX' 'KIWA' 'KIWX' 'KJAX' 'KJGX' 'KJKL' 'KLBB' 'KLCH'\n",
      " 'KLIX' 'KLNX' 'KLOT' 'KLRX' 'KLSX' 'KLTX' 'KLVX' 'KLWX' 'KLZK' 'KMAF'\n",
      " 'KMAX' 'KMHX' 'KMKX' 'KMLB' 'KMOB' 'KMPX' 'KMQT' 'KMRX' 'KMSX' 'KMTX'\n",
      " 'KMUX' 'KMVX' 'KNKX' 'KNQA' 'KOAX' 'KOHX' 'KOKX' 'KOTX' 'KPAH' 'KPBZ'\n",
      " 'KPDT' 'KPUX' 'KRAX' 'KRGX' 'KRIW' 'KRLX' 'KRTX' 'KSFX' 'KSGF' 'KSHV'\n",
      " 'KSJT' 'KSOX' 'KSRX' 'KTBW' 'KTFX' 'KTLH' 'KTLX' 'KTWX' 'KTYX' 'KUDX'\n",
      " 'KUEX' 'KVNX' 'KVTX' 'KVWX' 'KYUX']\n"
     ]
    }
   ],
   "source": [
    "radars = pd.read_csv('../dataset/radar.csv').values.reshape(1, -1)\n",
    "radars = radars[0]\n",
    "print(radars)"
   ]
  },
  {
   "cell_type": "code",
   "execution_count": null,
   "id": "556b1339",
   "metadata": {
    "scrolled": true
   },
   "outputs": [
    {
     "name": "stderr",
     "output_type": "stream",
     "text": [
      "  0%|          | 0/87 [00:00<?, ?it/s]\n",
      "100%|██████████| 455/455 [00:00<00:00, 7027.76it/s]\n",
      "\n",
      "100%|██████████| 910/910 [00:00<00:00, 159233.07it/s]\n",
      "  1%|          | 1/87 [05:25<7:46:55, 325.77s/it]"
     ]
    },
    {
     "name": "stdout",
     "output_type": "stream",
     "text": [
      "{'n_estimators': 30, 'random_state': 100}\n",
      "3 0.6620715780506712 216437790.6935835 0.6613583093014013\n"
     ]
    }
   ],
   "source": [
    "coef = 0.5\n",
    "radar = 'KABR'\n",
    "radars = ['KFDX', 'KFFC', 'KFSD', 'KFSX', 'KFTG', 'KFWS', \n",
    "          'KGGW', 'KGJX', 'KGLD', 'KGRB', 'KGRK', 'KGRR',\n",
    "          'KGSP', 'KGWX', 'KGYX', 'KHDX', 'KHGX', 'KHNX',\n",
    "          'KHTX', 'KICT', 'KICX', 'KILN', 'KILX', 'KIND',\n",
    "          'KINX', 'KIWA', 'KIWX', 'KJAX', 'KJGX', 'KJKL', \n",
    "          'KLBB', 'KLCH', 'KLIX', 'KLNX', 'KLOT', 'KLRX', \n",
    "          'KLSX', 'KLTX', 'KLVX', 'KLWX', 'KLZK', 'KMAF',\n",
    "          'KMAX', 'KMHX', 'KMKX', 'KMLB', 'KMOB', 'KMPX',\n",
    "          'KMQT', 'KMRX', 'KMSX', 'KMTX', 'KMUX', 'KMVX', \n",
    "          'KNKX', 'KNQA', 'KOAX', 'KOHX', 'KOKX', 'KOTX',\n",
    "          'KPAH', 'KPBZ', 'KPDT', 'KPUX', 'KRAX', 'KRGX',\n",
    "          'KRIW', 'KRLX', 'KRTX', 'KSFX', 'KSGF', 'KSHV',\n",
    "          'KSJT', 'KSOX', 'KSRX', 'KTBW', 'KTFX', 'KTLH',\n",
    "          'KTLX', 'KTWX', 'KTYX', 'KUDX', 'KUEX', 'KVNX',\n",
    "          'KVTX', 'KVWX', 'KYUX']\n",
    "order_lags = 3\n",
    "#result = pd.DataFrame(columns=('radar', 'mse', 'r2', 'explained_variance', 'n_estimators'))\n",
    "result = pd.read_csv('../dataset/result_mean_estimator.csv')\n",
    "for radar in tqdm(radars):\n",
    "    df_forecasting = pd.read_csv('../dataset/regressor_mean/regressor_mean%i_%s.csv'%(order_lags, radar))\n",
    "    pred, par = hyperparameter_tuning(df_forecasting, coef, radar)\n",
    "    pred = drop_altitude(pred)\n",
    "    true = drop_altitude(df_forecasting['linear_eta'].values)\n",
    "    test_y = true[(len(true)-len(pred)):]\n",
    "    train_y = true[:(len(true)-len(pred))]\n",
    "    #rfm.line_plot1(ts_1 = test_y, ts_label_1 = rfm.radar, ts_2 = pred_y, ts_label_2 = '%s - Forecasting'%rfm.radar, title = '%s forecasting (testing data)'%rfm.radar, m = 'weather_lags5')\n",
    "    #rfm.line_plot2(ts_1 = test_y, ts_label_1 = '%s observed'%rfm.radar, ts_2 = pred_y, ts_label_2 = '%s - Forecasting'%rfm.radar, ts_3 = train_y, ts_label_3 = '%s training'%rfm.radar, title = '%s forecasting(training + testing)'%rfm.radar, m = 'weather_lags%i'%j)\n",
    "    var = explained_variance_score(test_y, pred)\n",
    "    mse = mean_squared_error(test_y, pred)\n",
    "    r2 = r2_score(test_y, pred)\n",
    "    print(order_lags, var, mse, r2)\n",
    "    result = result.append(pd.DataFrame({'radar':[radar],\n",
    "                                         'mse':[np.round(mse, 3)],\n",
    "                                         'r2':[np.round(r2, 3)],\n",
    "                                         'explained_variance':[np.round(var, 3)],\n",
    "                                         'n_estimators':[par['n_estimators']]}),\n",
    "                           ignore_index = True)\n",
    "    result.to_csv('../dataset/result_mean_estimator.csv', index = False)\n",
    "    pd.DataFrame(pred).to_csv('../dataset/pred_mean/pred_mean_%i_opt_%s.csv'%(order_lags, radar), index = False)"
   ]
  },
  {
   "cell_type": "markdown",
   "id": "5ecac712",
   "metadata": {},
   "source": [
    "### weather with altitude"
   ]
  },
  {
   "cell_type": "code",
   "execution_count": 76,
   "id": "c7da91fa",
   "metadata": {
    "scrolled": true
   },
   "outputs": [
    {
     "name": "stderr",
     "output_type": "stream",
     "text": [
      "100%|██████████| 455/455 [00:00<00:00, 121299.71it/s]\n",
      "100%|██████████| 910/910 [00:00<00:00, 190774.06it/s]"
     ]
    },
    {
     "name": "stdout",
     "output_type": "stream",
     "text": [
      "{'n_estimators': 70, 'random_state': 0} -1414679.4944869713\n",
      "3 0.3540279401266294 515748359.4937152 0.34905566463298865\n"
     ]
    },
    {
     "name": "stderr",
     "output_type": "stream",
     "text": [
      "\n"
     ]
    }
   ],
   "source": [
    "coef = 0.5\n",
    "radar = 'KABR'\n",
    "result = pd.DataFrame(columns=('radar', 'mse', 'r2', 'explained_variance', 'n_estimators'))\n",
    "order_lags = 3\n",
    "for radar in tqdm(radars):\n",
    "    df_forecasting = pd.read_csv('../dataset/regressor_mean/regressor_mean%i_%s.csv'%(order_lags, radar))\n",
    "    df_forecasting = df_forecasting.drop('rolling_mean', axis = 1)\n",
    "    pred, par = hyperparameter_tuning(df_forecasting, coef, radar)\n",
    "    pred_y = drop_altitude(pred.values)\n",
    "\n",
    "    true = drop_altitude(df_forecasting['linear_eta'].values)\n",
    "    test_y = true[(len(true)-len(pred_y)):]\n",
    "    train_y = true[:(len(true)-len(pred_y))]\n",
    "    #rfm.line_plot1(ts_1 = test_y, ts_label_1 = rfm.radar, ts_2 = pred_y, ts_label_2 = '%s - Forecasting'%rfm.radar, title = '%s forecasting (testing data)'%rfm.radar, m = 'weather_lags5')\n",
    "    #rfm.line_plot2(ts_1 = test_y, ts_label_1 = '%s observed'%rfm.radar, ts_2 = pred_y, ts_label_2 = '%s - Forecasting'%rfm.radar, ts_3 = train_y, ts_label_3 = '%s training'%rfm.radar, title = '%s forecasting(training + testing)'%rfm.radar, m = 'weather_lags%i'%j)\n",
    "    var = explained_variance_score(test_y, pred_y)\n",
    "    mse = mean_squared_error(test_y, pred_y)\n",
    "    r2 = r2_score(test_y, pred_y)\n",
    "    print(order_lags, var, mae, r2)\n",
    "    result = result.append(pd.DataFrame({'radar':[radar],\n",
    "                                         'mse':[np.round(mse, 3)],\n",
    "                                         'r2':[np.round(r2, 3)],\n",
    "                                         'explained_variance':[np.round(var, 3)],\n",
    "                                         'n_estimators':[par['n_estimators']]}),\n",
    "                           ignore_index = True)\n",
    "    result.to_csv('../dataset/result_estimator.csv', index = False)\n",
    "    pd.DataFrame(pred_y).to_csv('../dataset/pred/pred_%i_opt_%s.csv'%(order_lags, radar), index = False)"
   ]
  },
  {
   "cell_type": "markdown",
   "id": "9b3eda60",
   "metadata": {},
   "source": [
    "### configuration"
   ]
  },
  {
   "cell_type": "code",
   "execution_count": null,
   "id": "d2cc8b4f",
   "metadata": {},
   "outputs": [],
   "source": [
    "import json\n",
    "def ReadJson(JsonFile):\n",
    "    df = pd.DataFrame()\n",
    "    with open(filename, 'r') as f:\n",
    "        for jsonstr in f.readlines(): \n",
    "            data = json.loads(jsonstr)           \n",
    "            df. = (data[0],data[3],data[6]) \n",
    "\n",
    "    \n",
    "def WriteJson(JsonFile, data):\n",
    "    with open(JsonFile,'w',encoding = 'GBK') as f1:\n",
    "        str1 = {'lags':str(3)}\n",
    "        f1.writelines(jison.dump(str1)+'\\n')\n",
    "        for radar in radars:\n",
    "            str1 ={'radar':str(radar),\n",
    "                   'n_estimators':str(data.loc(radar, 'n_estimators')),\n",
    "                   'max_depth':str(data.loc(radar, 'max_depth')),\n",
    "                   'max_features':str(data.loc(radar, 'max_features'))}\n",
    "            f1.writelines(jison.dump(str1)+'\\n')\n"
   ]
  },
  {
   "cell_type": "code",
   "execution_count": null,
   "id": "2af7e804",
   "metadata": {},
   "outputs": [],
   "source": [
    "WriteJson('config.json', data)\n",
    "JsonPara = ReadJson('config.json')"
   ]
  }
 ],
 "metadata": {
  "kernelspec": {
   "display_name": "Python 3",
   "language": "python",
   "name": "python3"
  },
  "language_info": {
   "codemirror_mode": {
    "name": "ipython",
    "version": 3
   },
   "file_extension": ".py",
   "mimetype": "text/x-python",
   "name": "python",
   "nbconvert_exporter": "python",
   "pygments_lexer": "ipython3",
   "version": "3.8.8"
  }
 },
 "nbformat": 4,
 "nbformat_minor": 5
}
